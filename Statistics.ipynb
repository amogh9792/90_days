{
 "cells": [
  {
   "cell_type": "markdown",
   "id": "9fa65382",
   "metadata": {},
   "source": [
    "### Statistics"
   ]
  },
  {
   "cell_type": "markdown",
   "id": "4ba36a45",
   "metadata": {},
   "source": [
    "### collecting ---- organizing ---- analyzing \n",
    "\n",
    "### data : fact or piece of information"
   ]
  },
  {
   "cell_type": "markdown",
   "id": "3b631ae8",
   "metadata": {},
   "source": [
    "# Types of statistics\n",
    "\n",
    "### Descriptive Statistics\n",
    "\n",
    "### It consists of organizing and summarizing the data.\n",
    "\n",
    "#### 1. Measure of central tendancy : Mean, Mode, Median\n",
    "\n",
    "#### 2. Measure of dispersion : Variance, standard deviation\n",
    "\n",
    "#### 3. Different types of distribution : Normal, Binomial "
   ]
  },
  {
   "cell_type": "markdown",
   "id": "0983aa84",
   "metadata": {},
   "source": [
    "### Inferential stats\n",
    "\n",
    "#### It talks about the conclusion\n",
    "\n",
    "#### 1. Population (N)\n",
    "\n",
    "#### 2. Sample (n)\n",
    "\n",
    "#### 3. Test\n",
    "\n",
    "      a. Z-test\n",
    "      b. t-test\n",
    "      c. Chi Square test\n",
    "      d. ANOVA\n",
    "      e. F-test"
   ]
  },
  {
   "cell_type": "markdown",
   "id": "e3e50011",
   "metadata": {},
   "source": [
    "Example : \n",
    "    \n",
    "Let say i have a data of 20 students in the class of 10th about the height, weight, age, percentage"
   ]
  },
  {
   "cell_type": "markdown",
   "id": "7e961ccf",
   "metadata": {},
   "source": [
    "#### Descriptive :\n",
    "    \n",
    "What is the average age, percentage, weight in the class 10th?\n",
    "\n",
    "\n",
    "#### Inferential :\n",
    "\n",
    "Are the weight of the students in the classroom similar to what you expect in the college?"
   ]
  },
  {
   "cell_type": "markdown",
   "id": "447a329a",
   "metadata": {},
   "source": [
    "### Population (N)\n",
    "\n",
    "#### All the data related to the problem statement"
   ]
  },
  {
   "cell_type": "markdown",
   "id": "10a7bc34",
   "metadata": {},
   "source": [
    "### Sample (n)\n",
    "\n",
    "It is extracted from Population with some specific method. Example simple random sampling method."
   ]
  },
  {
   "cell_type": "markdown",
   "id": "64de64cf",
   "metadata": {},
   "source": [
    "### Types of Data\n",
    "\n",
    "1. Qualitative\n",
    "\n",
    "    a. Discrete - whole number, number of bank      accounts, number of kids.\n",
    "    \n",
    "    b. Continuous - time, number with fraction, complex number. \n",
    "\n",
    "2. Quantitative\n",
    "\n",
    "    a. Ordinal : 1) Rank - 1st, 2nd , 3rd, 4th , 5th 2) Appreciation - 1.Best 2. better 3. good\n",
    "    \n",
    "    b. Nominal : 1) Gender - M , F   2) Hair color : black, white, brown"
   ]
  },
  {
   "cell_type": "code",
   "execution_count": null,
   "id": "03903b44",
   "metadata": {},
   "outputs": [],
   "source": []
  },
  {
   "cell_type": "markdown",
   "id": "7c73fb90",
   "metadata": {},
   "source": [
    "### Scales of Measurements"
   ]
  },
  {
   "cell_type": "markdown",
   "id": "779ec757",
   "metadata": {},
   "source": [
    "1. Nominal Scale :\n",
    "    a. qualitative\n",
    "    b. categorical \n",
    "    c. order does not matter\n",
    "    \n",
    "2. Ordinal Scale:\n",
    "    a. qualitative\n",
    "    b. categorical\n",
    "    c. order is important\n",
    "\n",
    "3. Discrete scale:\n",
    "    a. whole number | definite no | Example: No of bank account, 1, 6, 8, 9\n",
    "    b. continuous: fraction continues | time : 12:10:15:1952....."
   ]
  },
  {
   "cell_type": "code",
   "execution_count": null,
   "id": "7388f63a",
   "metadata": {},
   "outputs": [],
   "source": []
  }
 ],
 "metadata": {
  "kernelspec": {
   "display_name": "Python 3 (ipykernel)",
   "language": "python",
   "name": "python3"
  },
  "language_info": {
   "codemirror_mode": {
    "name": "ipython",
    "version": 3
   },
   "file_extension": ".py",
   "mimetype": "text/x-python",
   "name": "python",
   "nbconvert_exporter": "python",
   "pygments_lexer": "ipython3",
   "version": "3.11.5"
  }
 },
 "nbformat": 4,
 "nbformat_minor": 5
}
