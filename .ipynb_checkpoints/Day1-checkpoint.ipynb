{
 "cells": [
  {
   "cell_type": "markdown",
   "id": "304a5251",
   "metadata": {},
   "source": [
    "## Print Hello World"
   ]
  },
  {
   "cell_type": "code",
   "execution_count": 1,
   "id": "be4e960c",
   "metadata": {},
   "outputs": [
    {
     "name": "stdout",
     "output_type": "stream",
     "text": [
      "hello world\n"
     ]
    }
   ],
   "source": [
    "print(\"hello world\")"
   ]
  },
  {
   "cell_type": "code",
   "execution_count": 20,
   "id": "11df3a71",
   "metadata": {},
   "outputs": [
    {
     "name": "stdout",
     "output_type": "stream",
     "text": [
      "The Zen of Python, by Tim Peters\n",
      "\n",
      "Beautiful is better than ugly.\n",
      "Explicit is better than implicit.\n",
      "Simple is better than complex.\n",
      "Complex is better than complicated.\n",
      "Flat is better than nested.\n",
      "Sparse is better than dense.\n",
      "Readability counts.\n",
      "Special cases aren't special enough to break the rules.\n",
      "Although practicality beats purity.\n",
      "Errors should never pass silently.\n",
      "Unless explicitly silenced.\n",
      "In the face of ambiguity, refuse the temptation to guess.\n",
      "There should be one-- and preferably only one --obvious way to do it.\n",
      "Although that way may not be obvious at first unless you're Dutch.\n",
      "Now is better than never.\n",
      "Although never is often better than *right* now.\n",
      "If the implementation is hard to explain, it's a bad idea.\n",
      "If the implementation is easy to explain, it may be a good idea.\n",
      "Namespaces are one honking great idea -- let's do more of those!\n"
     ]
    }
   ],
   "source": [
    "import this"
   ]
  },
  {
   "cell_type": "markdown",
   "id": "ec432975",
   "metadata": {},
   "source": [
    "## Variables"
   ]
  },
  {
   "cell_type": "code",
   "execution_count": 2,
   "id": "484d0ccf",
   "metadata": {},
   "outputs": [],
   "source": [
    "t = 5"
   ]
  },
  {
   "cell_type": "code",
   "execution_count": 3,
   "id": "b9bdb301",
   "metadata": {},
   "outputs": [
    {
     "data": {
      "text/plain": [
       "5"
      ]
     },
     "execution_count": 3,
     "metadata": {},
     "output_type": "execute_result"
    }
   ],
   "source": [
    "t"
   ]
  },
  {
   "cell_type": "markdown",
   "id": "92cbb9bd",
   "metadata": {},
   "source": [
    "## Data types in python"
   ]
  },
  {
   "cell_type": "markdown",
   "id": "9f434b2e",
   "metadata": {},
   "source": [
    "int \n",
    "float \n",
    "string\n",
    "complex\n",
    "bool"
   ]
  },
  {
   "cell_type": "code",
   "execution_count": 4,
   "id": "7de17377",
   "metadata": {},
   "outputs": [],
   "source": [
    "a = 10"
   ]
  },
  {
   "cell_type": "code",
   "execution_count": 5,
   "id": "c8ed37ff",
   "metadata": {},
   "outputs": [
    {
     "data": {
      "text/plain": [
       "int"
      ]
     },
     "execution_count": 5,
     "metadata": {},
     "output_type": "execute_result"
    }
   ],
   "source": [
    "type(a)"
   ]
  },
  {
   "cell_type": "code",
   "execution_count": 6,
   "id": "118a800c",
   "metadata": {},
   "outputs": [],
   "source": [
    "b = 2.5"
   ]
  },
  {
   "cell_type": "code",
   "execution_count": 7,
   "id": "a695eee6",
   "metadata": {},
   "outputs": [
    {
     "data": {
      "text/plain": [
       "float"
      ]
     },
     "execution_count": 7,
     "metadata": {},
     "output_type": "execute_result"
    }
   ],
   "source": [
    "type(b)"
   ]
  },
  {
   "cell_type": "code",
   "execution_count": 8,
   "id": "ba4200ca",
   "metadata": {},
   "outputs": [],
   "source": [
    "c = \"amogh\""
   ]
  },
  {
   "cell_type": "code",
   "execution_count": 9,
   "id": "c03c66f1",
   "metadata": {},
   "outputs": [
    {
     "data": {
      "text/plain": [
       "str"
      ]
     },
     "execution_count": 9,
     "metadata": {},
     "output_type": "execute_result"
    }
   ],
   "source": [
    "type(c)"
   ]
  },
  {
   "cell_type": "code",
   "execution_count": 10,
   "id": "820c8200",
   "metadata": {},
   "outputs": [],
   "source": [
    "d = 5+9j"
   ]
  },
  {
   "cell_type": "code",
   "execution_count": 11,
   "id": "2ec0c447",
   "metadata": {},
   "outputs": [
    {
     "data": {
      "text/plain": [
       "(5+9j)"
      ]
     },
     "execution_count": 11,
     "metadata": {},
     "output_type": "execute_result"
    }
   ],
   "source": [
    "d"
   ]
  },
  {
   "cell_type": "code",
   "execution_count": 12,
   "id": "7dcd343a",
   "metadata": {},
   "outputs": [
    {
     "data": {
      "text/plain": [
       "complex"
      ]
     },
     "execution_count": 12,
     "metadata": {},
     "output_type": "execute_result"
    }
   ],
   "source": [
    "type(d)"
   ]
  },
  {
   "cell_type": "code",
   "execution_count": 13,
   "id": "dc7f7240",
   "metadata": {},
   "outputs": [],
   "source": [
    "e = True"
   ]
  },
  {
   "cell_type": "code",
   "execution_count": 14,
   "id": "09a44b3b",
   "metadata": {},
   "outputs": [
    {
     "data": {
      "text/plain": [
       "True"
      ]
     },
     "execution_count": 14,
     "metadata": {},
     "output_type": "execute_result"
    }
   ],
   "source": [
    "e"
   ]
  },
  {
   "cell_type": "code",
   "execution_count": 15,
   "id": "97d39714",
   "metadata": {},
   "outputs": [
    {
     "data": {
      "text/plain": [
       "bool"
      ]
     },
     "execution_count": 15,
     "metadata": {},
     "output_type": "execute_result"
    }
   ],
   "source": [
    "type(e)"
   ]
  },
  {
   "cell_type": "code",
   "execution_count": 16,
   "id": "9b54fa1c",
   "metadata": {},
   "outputs": [],
   "source": [
    "a = 120\n",
    "b = 2.2\n",
    "c = 1+3j\n",
    "d = False"
   ]
  },
  {
   "cell_type": "code",
   "execution_count": 17,
   "id": "9720365e",
   "metadata": {},
   "outputs": [
    {
     "data": {
      "text/plain": [
       "120"
      ]
     },
     "execution_count": 17,
     "metadata": {},
     "output_type": "execute_result"
    }
   ],
   "source": [
    "a"
   ]
  },
  {
   "cell_type": "code",
   "execution_count": 18,
   "id": "1a55e949",
   "metadata": {},
   "outputs": [],
   "source": [
    "a,b,c,d = 120, 2.2, 1+3j, False"
   ]
  },
  {
   "cell_type": "code",
   "execution_count": 19,
   "id": "b9aa7b67",
   "metadata": {},
   "outputs": [
    {
     "data": {
      "text/plain": [
       "(120, 2.2)"
      ]
     },
     "execution_count": 19,
     "metadata": {},
     "output_type": "execute_result"
    }
   ],
   "source": [
    "a,b"
   ]
  },
  {
   "cell_type": "markdown",
   "id": "b185b7cc",
   "metadata": {},
   "source": [
    "## String Operations"
   ]
  },
  {
   "cell_type": "code",
   "execution_count": 21,
   "id": "8f3864f6",
   "metadata": {},
   "outputs": [],
   "source": [
    "s = \"INDIA\""
   ]
  },
  {
   "cell_type": "code",
   "execution_count": 22,
   "id": "e054d981",
   "metadata": {},
   "outputs": [
    {
     "data": {
      "text/plain": [
       "'INDIA'"
      ]
     },
     "execution_count": 22,
     "metadata": {},
     "output_type": "execute_result"
    }
   ],
   "source": [
    "s"
   ]
  },
  {
   "cell_type": "code",
   "execution_count": 23,
   "id": "3e849a26",
   "metadata": {},
   "outputs": [
    {
     "data": {
      "text/plain": [
       "str"
      ]
     },
     "execution_count": 23,
     "metadata": {},
     "output_type": "execute_result"
    }
   ],
   "source": [
    "type(s)"
   ]
  },
  {
   "cell_type": "code",
   "execution_count": 24,
   "id": "703ca924",
   "metadata": {},
   "outputs": [
    {
     "data": {
      "text/plain": [
       "5"
      ]
     },
     "execution_count": 24,
     "metadata": {},
     "output_type": "execute_result"
    }
   ],
   "source": [
    "len(s)"
   ]
  },
  {
   "cell_type": "code",
   "execution_count": 25,
   "id": "a1ced14a",
   "metadata": {},
   "outputs": [
    {
     "data": {
      "text/plain": [
       "'I'"
      ]
     },
     "execution_count": 25,
     "metadata": {},
     "output_type": "execute_result"
    }
   ],
   "source": [
    "s[0]"
   ]
  },
  {
   "cell_type": "code",
   "execution_count": 1,
   "id": "434b2aa6",
   "metadata": {},
   "outputs": [],
   "source": [
    "a = \"INDIA IS A GREAT NATION\""
   ]
  },
  {
   "cell_type": "code",
   "execution_count": 2,
   "id": "c218cd12",
   "metadata": {},
   "outputs": [
    {
     "data": {
      "text/plain": [
       "'INDIA IS A GREAT NATION'"
      ]
     },
     "execution_count": 2,
     "metadata": {},
     "output_type": "execute_result"
    }
   ],
   "source": [
    "a"
   ]
  },
  {
   "cell_type": "code",
   "execution_count": 4,
   "id": "9e1f5c94",
   "metadata": {},
   "outputs": [
    {
     "data": {
      "text/plain": [
       "'INDIA'"
      ]
     },
     "execution_count": 4,
     "metadata": {},
     "output_type": "execute_result"
    }
   ],
   "source": [
    "a[0:5]"
   ]
  },
  {
   "cell_type": "code",
   "execution_count": 5,
   "id": "fef6c541",
   "metadata": {},
   "outputs": [
    {
     "data": {
      "text/plain": [
       "'INDIA IS A'"
      ]
     },
     "execution_count": 5,
     "metadata": {},
     "output_type": "execute_result"
    }
   ],
   "source": [
    "a[0:10]"
   ]
  },
  {
   "cell_type": "code",
   "execution_count": 6,
   "id": "2d88ea5b",
   "metadata": {},
   "outputs": [
    {
     "data": {
      "text/plain": [
       "'S A'"
      ]
     },
     "execution_count": 6,
     "metadata": {},
     "output_type": "execute_result"
    }
   ],
   "source": [
    "a[7:10]"
   ]
  },
  {
   "cell_type": "code",
   "execution_count": 7,
   "id": "70159cf6",
   "metadata": {},
   "outputs": [
    {
     "data": {
      "text/plain": [
       "' A GREAT NAT'"
      ]
     },
     "execution_count": 7,
     "metadata": {},
     "output_type": "execute_result"
    }
   ],
   "source": [
    "a[8:20]"
   ]
  },
  {
   "cell_type": "code",
   "execution_count": 8,
   "id": "3a4416e9",
   "metadata": {},
   "outputs": [
    {
     "data": {
      "text/plain": [
       "23"
      ]
     },
     "execution_count": 8,
     "metadata": {},
     "output_type": "execute_result"
    }
   ],
   "source": [
    "len(a)"
   ]
  },
  {
   "cell_type": "code",
   "execution_count": 9,
   "id": "557be8f0",
   "metadata": {},
   "outputs": [
    {
     "data": {
      "text/plain": [
       "'INDIA IS A GREAT NATION'"
      ]
     },
     "execution_count": 9,
     "metadata": {},
     "output_type": "execute_result"
    }
   ],
   "source": [
    "a"
   ]
  },
  {
   "cell_type": "markdown",
   "id": "d04ffa8e",
   "metadata": {},
   "source": [
    "### Alternate Characters access"
   ]
  },
  {
   "cell_type": "code",
   "execution_count": 10,
   "id": "86a27a10",
   "metadata": {},
   "outputs": [
    {
     "data": {
      "text/plain": [
       "'INDIA IS A GREAT NATION'"
      ]
     },
     "execution_count": 10,
     "metadata": {},
     "output_type": "execute_result"
    }
   ],
   "source": [
    "a[0:100]"
   ]
  },
  {
   "cell_type": "code",
   "execution_count": 11,
   "id": "a1d1683a",
   "metadata": {},
   "outputs": [
    {
     "data": {
      "text/plain": [
       "'INDIA IS A GREAT NATION'"
      ]
     },
     "execution_count": 11,
     "metadata": {},
     "output_type": "execute_result"
    }
   ],
   "source": [
    "a[0:100:1]"
   ]
  },
  {
   "cell_type": "code",
   "execution_count": 12,
   "id": "134c8bd4",
   "metadata": {},
   "outputs": [
    {
     "data": {
      "text/plain": [
       "'IDAI  RA AIN'"
      ]
     },
     "execution_count": 12,
     "metadata": {},
     "output_type": "execute_result"
    }
   ],
   "source": [
    "a[0:100:2]"
   ]
  },
  {
   "cell_type": "code",
   "execution_count": 13,
   "id": "3710aa61",
   "metadata": {},
   "outputs": [
    {
     "data": {
      "text/plain": [
       "'IA R I'"
      ]
     },
     "execution_count": 13,
     "metadata": {},
     "output_type": "execute_result"
    }
   ],
   "source": [
    "a[0:100:4]"
   ]
  },
  {
   "cell_type": "code",
   "execution_count": 14,
   "id": "0943e0c2",
   "metadata": {},
   "outputs": [
    {
     "data": {
      "text/plain": [
       "'INDIA IS A GREAT NATION'"
      ]
     },
     "execution_count": 14,
     "metadata": {},
     "output_type": "execute_result"
    }
   ],
   "source": [
    "a"
   ]
  },
  {
   "cell_type": "markdown",
   "id": "4f7f1ec4",
   "metadata": {},
   "source": [
    "## String reverse"
   ]
  },
  {
   "cell_type": "code",
   "execution_count": 17,
   "id": "6c1995f1",
   "metadata": {},
   "outputs": [
    {
     "data": {
      "text/plain": [
       "'NOITAN TAERG A SI AIDNI'"
      ]
     },
     "execution_count": 17,
     "metadata": {},
     "output_type": "execute_result"
    }
   ],
   "source": [
    "a[::-1]"
   ]
  },
  {
   "cell_type": "markdown",
   "id": "1f55764a",
   "metadata": {},
   "source": [
    "### Find character in index"
   ]
  },
  {
   "cell_type": "code",
   "execution_count": 18,
   "id": "9d7b06d6",
   "metadata": {},
   "outputs": [
    {
     "data": {
      "text/plain": [
       "'INDIA IS A GREAT NATION'"
      ]
     },
     "execution_count": 18,
     "metadata": {},
     "output_type": "execute_result"
    }
   ],
   "source": [
    "a"
   ]
  },
  {
   "cell_type": "code",
   "execution_count": 19,
   "id": "bdefd246",
   "metadata": {},
   "outputs": [
    {
     "data": {
      "text/plain": [
       "11"
      ]
     },
     "execution_count": 19,
     "metadata": {},
     "output_type": "execute_result"
    }
   ],
   "source": [
    "a.find(\"G\")"
   ]
  },
  {
   "cell_type": "code",
   "execution_count": 20,
   "id": "6f3c9521",
   "metadata": {},
   "outputs": [
    {
     "data": {
      "text/plain": [
       "2"
      ]
     },
     "execution_count": 20,
     "metadata": {},
     "output_type": "execute_result"
    }
   ],
   "source": [
    "a.find(\"D\")"
   ]
  },
  {
   "cell_type": "code",
   "execution_count": 21,
   "id": "d1487c26",
   "metadata": {},
   "outputs": [
    {
     "data": {
      "text/plain": [
       "0"
      ]
     },
     "execution_count": 21,
     "metadata": {},
     "output_type": "execute_result"
    }
   ],
   "source": [
    "a.find(\"INDIA\")"
   ]
  },
  {
   "cell_type": "markdown",
   "id": "61b1971c",
   "metadata": {},
   "source": [
    "## Case change"
   ]
  },
  {
   "cell_type": "code",
   "execution_count": 23,
   "id": "21b182e2",
   "metadata": {},
   "outputs": [],
   "source": [
    "a = a.capitalize()"
   ]
  },
  {
   "cell_type": "code",
   "execution_count": 24,
   "id": "c4cbb38d",
   "metadata": {},
   "outputs": [
    {
     "data": {
      "text/plain": [
       "'India is a great nation'"
      ]
     },
     "execution_count": 24,
     "metadata": {},
     "output_type": "execute_result"
    }
   ],
   "source": [
    "a"
   ]
  },
  {
   "cell_type": "code",
   "execution_count": 25,
   "id": "1ae3830d",
   "metadata": {},
   "outputs": [
    {
     "data": {
      "text/plain": [
       "'INDIA IS A GREAT NATION'"
      ]
     },
     "execution_count": 25,
     "metadata": {},
     "output_type": "execute_result"
    }
   ],
   "source": [
    "a.upper()"
   ]
  },
  {
   "cell_type": "code",
   "execution_count": 26,
   "id": "60076475",
   "metadata": {},
   "outputs": [
    {
     "data": {
      "text/plain": [
       "False"
      ]
     },
     "execution_count": 26,
     "metadata": {},
     "output_type": "execute_result"
    }
   ],
   "source": [
    "a.isalnum() ##Checks if there are only numbers or alphabets"
   ]
  },
  {
   "cell_type": "code",
   "execution_count": 27,
   "id": "4a9d978e",
   "metadata": {},
   "outputs": [],
   "source": [
    "t = \"     djfjk dlkjfl  jdkfjlkfj \""
   ]
  },
  {
   "cell_type": "code",
   "execution_count": 28,
   "id": "8ef84c62",
   "metadata": {},
   "outputs": [
    {
     "data": {
      "text/plain": [
       "'     djfjk dlkjfl  jdkfjlkfj '"
      ]
     },
     "execution_count": 28,
     "metadata": {},
     "output_type": "execute_result"
    }
   ],
   "source": [
    "t"
   ]
  },
  {
   "cell_type": "code",
   "execution_count": 29,
   "id": "104af7e0",
   "metadata": {},
   "outputs": [
    {
     "data": {
      "text/plain": [
       "'djfjk dlkjfl  jdkfjlkfj'"
      ]
     },
     "execution_count": 29,
     "metadata": {},
     "output_type": "execute_result"
    }
   ],
   "source": [
    "t.strip() ## Removes extra space"
   ]
  },
  {
   "cell_type": "code",
   "execution_count": 30,
   "id": "aeda08d0",
   "metadata": {},
   "outputs": [],
   "source": [
    "a = a.split()"
   ]
  },
  {
   "cell_type": "code",
   "execution_count": 31,
   "id": "0c44c659",
   "metadata": {},
   "outputs": [
    {
     "data": {
      "text/plain": [
       "['India', 'is', 'a', 'great', 'nation']"
      ]
     },
     "execution_count": 31,
     "metadata": {},
     "output_type": "execute_result"
    }
   ],
   "source": [
    "a"
   ]
  },
  {
   "cell_type": "code",
   "execution_count": 32,
   "id": "3ff11685",
   "metadata": {},
   "outputs": [
    {
     "data": {
      "text/plain": [
       "['India', 'is', 'a', 'great', 'nation']"
      ]
     },
     "execution_count": 32,
     "metadata": {},
     "output_type": "execute_result"
    }
   ],
   "source": [
    "a"
   ]
  },
  {
   "cell_type": "code",
   "execution_count": 33,
   "id": "ac5e46bf",
   "metadata": {},
   "outputs": [],
   "source": [
    "t = \"india is my nation\""
   ]
  },
  {
   "cell_type": "code",
   "execution_count": 34,
   "id": "1ff22f4f",
   "metadata": {},
   "outputs": [
    {
     "data": {
      "text/plain": [
       "'india is my nation'"
      ]
     },
     "execution_count": 34,
     "metadata": {},
     "output_type": "execute_result"
    }
   ],
   "source": [
    "t"
   ]
  },
  {
   "cell_type": "code",
   "execution_count": 35,
   "id": "d009b567",
   "metadata": {},
   "outputs": [
    {
     "data": {
      "text/plain": [
       "'India Is My Nation'"
      ]
     },
     "execution_count": 35,
     "metadata": {},
     "output_type": "execute_result"
    }
   ],
   "source": [
    "t.title()"
   ]
  },
  {
   "cell_type": "markdown",
   "id": "fe1cc7f4",
   "metadata": {},
   "source": [
    "## LIST"
   ]
  },
  {
   "cell_type": "code",
   "execution_count": 36,
   "id": "e86aa36b",
   "metadata": {},
   "outputs": [
    {
     "data": {
      "text/plain": [
       "[]"
      ]
     },
     "execution_count": 36,
     "metadata": {},
     "output_type": "execute_result"
    }
   ],
   "source": [
    "list()"
   ]
  },
  {
   "cell_type": "code",
   "execution_count": 37,
   "id": "7831fcc9",
   "metadata": {},
   "outputs": [],
   "source": [
    "t = []"
   ]
  },
  {
   "cell_type": "code",
   "execution_count": 38,
   "id": "7f83f289",
   "metadata": {},
   "outputs": [
    {
     "data": {
      "text/plain": [
       "[]"
      ]
     },
     "execution_count": 38,
     "metadata": {},
     "output_type": "execute_result"
    }
   ],
   "source": [
    "t"
   ]
  },
  {
   "cell_type": "code",
   "execution_count": 39,
   "id": "830b6fd1",
   "metadata": {},
   "outputs": [
    {
     "data": {
      "text/plain": [
       "list"
      ]
     },
     "execution_count": 39,
     "metadata": {},
     "output_type": "execute_result"
    }
   ],
   "source": [
    "type(t)"
   ]
  },
  {
   "cell_type": "code",
   "execution_count": 40,
   "id": "46dc1524",
   "metadata": {},
   "outputs": [
    {
     "data": {
      "text/plain": [
       "0"
      ]
     },
     "execution_count": 40,
     "metadata": {},
     "output_type": "execute_result"
    }
   ],
   "source": [
    "len(t)"
   ]
  },
  {
   "cell_type": "code",
   "execution_count": 41,
   "id": "d3534a54",
   "metadata": {},
   "outputs": [],
   "source": [
    "l = ['INDIA', 5, 6.5, 1+2j, True]"
   ]
  },
  {
   "cell_type": "code",
   "execution_count": 42,
   "id": "967209dd",
   "metadata": {},
   "outputs": [
    {
     "data": {
      "text/plain": [
       "['INDIA', 5, 6.5, (1+2j), True]"
      ]
     },
     "execution_count": 42,
     "metadata": {},
     "output_type": "execute_result"
    }
   ],
   "source": [
    "l"
   ]
  },
  {
   "cell_type": "code",
   "execution_count": 43,
   "id": "1d0f4ebf",
   "metadata": {},
   "outputs": [
    {
     "data": {
      "text/plain": [
       "'INDIA'"
      ]
     },
     "execution_count": 43,
     "metadata": {},
     "output_type": "execute_result"
    }
   ],
   "source": [
    "l[0]"
   ]
  },
  {
   "cell_type": "code",
   "execution_count": 45,
   "id": "27267a45",
   "metadata": {},
   "outputs": [
    {
     "data": {
      "text/plain": [
       "'N'"
      ]
     },
     "execution_count": 45,
     "metadata": {},
     "output_type": "execute_result"
    }
   ],
   "source": [
    "l[0][1]"
   ]
  },
  {
   "cell_type": "code",
   "execution_count": 46,
   "id": "bcd1fa94",
   "metadata": {},
   "outputs": [
    {
     "data": {
      "text/plain": [
       "True"
      ]
     },
     "execution_count": 46,
     "metadata": {},
     "output_type": "execute_result"
    }
   ],
   "source": [
    "l[-1]"
   ]
  },
  {
   "cell_type": "code",
   "execution_count": 47,
   "id": "17bd628a",
   "metadata": {},
   "outputs": [
    {
     "data": {
      "text/plain": [
       "['INDIA', 5, 6.5]"
      ]
     },
     "execution_count": 47,
     "metadata": {},
     "output_type": "execute_result"
    }
   ],
   "source": [
    "l[0:3]"
   ]
  },
  {
   "cell_type": "code",
   "execution_count": 48,
   "id": "2c105e2c",
   "metadata": {},
   "outputs": [
    {
     "data": {
      "text/plain": [
       "[6.5, (1+2j), True]"
      ]
     },
     "execution_count": 48,
     "metadata": {},
     "output_type": "execute_result"
    }
   ],
   "source": [
    "l[2:5]"
   ]
  },
  {
   "cell_type": "code",
   "execution_count": 49,
   "id": "5cb6c716",
   "metadata": {},
   "outputs": [],
   "source": [
    "l1 = ['INDIA', 123, True]\n",
    "l2 = ['Maharashtra', 2637, False]"
   ]
  },
  {
   "cell_type": "code",
   "execution_count": 50,
   "id": "a14c9394",
   "metadata": {},
   "outputs": [
    {
     "data": {
      "text/plain": [
       "['INDIA', 123, True, 'Maharashtra', 2637, False]"
      ]
     },
     "execution_count": 50,
     "metadata": {},
     "output_type": "execute_result"
    }
   ],
   "source": [
    "l1 + l2"
   ]
  },
  {
   "cell_type": "code",
   "execution_count": 51,
   "id": "b900710d",
   "metadata": {},
   "outputs": [],
   "source": [
    "l3 = l1 + l2"
   ]
  },
  {
   "cell_type": "code",
   "execution_count": 52,
   "id": "5e15aed2",
   "metadata": {},
   "outputs": [
    {
     "data": {
      "text/plain": [
       "['INDIA', 123, True, 'Maharashtra', 2637, False]"
      ]
     },
     "execution_count": 52,
     "metadata": {},
     "output_type": "execute_result"
    }
   ],
   "source": [
    "l3"
   ]
  },
  {
   "cell_type": "code",
   "execution_count": 54,
   "id": "11d94271",
   "metadata": {},
   "outputs": [
    {
     "data": {
      "text/plain": [
       "['INDIA', 123, True, 'Maharashtra', 2637, False, 'PUNE']"
      ]
     },
     "execution_count": 54,
     "metadata": {},
     "output_type": "execute_result"
    }
   ],
   "source": [
    "l3 + ['PUNE'] ## you can add element directly in existing"
   ]
  },
  {
   "cell_type": "code",
   "execution_count": 55,
   "id": "56d5da29",
   "metadata": {},
   "outputs": [
    {
     "data": {
      "text/plain": [
       "'INDIA'"
      ]
     },
     "execution_count": 55,
     "metadata": {},
     "output_type": "execute_result"
    }
   ],
   "source": [
    "l3.pop(0)"
   ]
  },
  {
   "cell_type": "code",
   "execution_count": 56,
   "id": "3b5009d0",
   "metadata": {},
   "outputs": [
    {
     "data": {
      "text/plain": [
       "[123, True, 'Maharashtra', 2637, False]"
      ]
     },
     "execution_count": 56,
     "metadata": {},
     "output_type": "execute_result"
    }
   ],
   "source": [
    "l3"
   ]
  },
  {
   "cell_type": "markdown",
   "id": "91e1dab7",
   "metadata": {},
   "source": [
    "## INSERTION"
   ]
  },
  {
   "cell_type": "code",
   "execution_count": 60,
   "id": "24e22ac1",
   "metadata": {},
   "outputs": [],
   "source": [
    "l3.insert(0, 'JAY') # inserts an element into the list"
   ]
  },
  {
   "cell_type": "code",
   "execution_count": 59,
   "id": "2fda8b8e",
   "metadata": {},
   "outputs": [
    {
     "data": {
      "text/plain": [
       "['JAY', 123, True, 'Maharashtra', 2637, False]"
      ]
     },
     "execution_count": 59,
     "metadata": {},
     "output_type": "execute_result"
    }
   ],
   "source": [
    "l3"
   ]
  },
  {
   "cell_type": "code",
   "execution_count": 61,
   "id": "50cc1a58",
   "metadata": {},
   "outputs": [],
   "source": [
    "l3.insert(-1, [1,2,3])"
   ]
  },
  {
   "cell_type": "code",
   "execution_count": 62,
   "id": "d1d7f951",
   "metadata": {},
   "outputs": [
    {
     "data": {
      "text/plain": [
       "['JAY', 'JAY', 123, True, 'Maharashtra', 2637, [1, 2, 3], False]"
      ]
     },
     "execution_count": 62,
     "metadata": {},
     "output_type": "execute_result"
    }
   ],
   "source": [
    "l3"
   ]
  },
  {
   "cell_type": "code",
   "execution_count": 63,
   "id": "a18272dd",
   "metadata": {},
   "outputs": [
    {
     "data": {
      "text/plain": [
       "[1, 2, 3]"
      ]
     },
     "execution_count": 63,
     "metadata": {},
     "output_type": "execute_result"
    }
   ],
   "source": [
    "l3[-2]"
   ]
  },
  {
   "cell_type": "code",
   "execution_count": 64,
   "id": "fd2cffa5",
   "metadata": {},
   "outputs": [
    {
     "data": {
      "text/plain": [
       "2"
      ]
     },
     "execution_count": 64,
     "metadata": {},
     "output_type": "execute_result"
    }
   ],
   "source": [
    "l3[-2][-2] # Access character 2 in the nested list"
   ]
  },
  {
   "cell_type": "code",
   "execution_count": 66,
   "id": "1bdc82bd",
   "metadata": {},
   "outputs": [
    {
     "data": {
      "text/plain": [
       "[1, 2, 3]"
      ]
     },
     "execution_count": 66,
     "metadata": {},
     "output_type": "execute_result"
    }
   ],
   "source": [
    "l3[6]"
   ]
  },
  {
   "cell_type": "code",
   "execution_count": 67,
   "id": "d3b309ab",
   "metadata": {},
   "outputs": [
    {
     "data": {
      "text/plain": [
       "[False, [1, 2, 3], 2637, 'Maharashtra', True, 123, 'JAY', 'JAY']"
      ]
     },
     "execution_count": 67,
     "metadata": {},
     "output_type": "execute_result"
    }
   ],
   "source": [
    "l3[::-1]"
   ]
  },
  {
   "cell_type": "code",
   "execution_count": 68,
   "id": "22eee6ab",
   "metadata": {},
   "outputs": [],
   "source": [
    "l3.append('lskdfjlsjf')"
   ]
  },
  {
   "cell_type": "code",
   "execution_count": 69,
   "id": "404ee6c7",
   "metadata": {},
   "outputs": [
    {
     "data": {
      "text/plain": [
       "['JAY', 'JAY', 123, True, 'Maharashtra', 2637, [1, 2, 3], False, 'lskdfjlsjf']"
      ]
     },
     "execution_count": 69,
     "metadata": {},
     "output_type": "execute_result"
    }
   ],
   "source": [
    "l3"
   ]
  },
  {
   "cell_type": "code",
   "execution_count": 3,
   "id": "9cf5f97c",
   "metadata": {},
   "outputs": [],
   "source": [
    "l4 = [23,76,33,44,55,6,66]"
   ]
  },
  {
   "cell_type": "code",
   "execution_count": 71,
   "id": "23216bd6",
   "metadata": {},
   "outputs": [
    {
     "data": {
      "text/plain": [
       "[23, 76, 33, 44, 55, 6, 66]"
      ]
     },
     "execution_count": 71,
     "metadata": {},
     "output_type": "execute_result"
    }
   ],
   "source": [
    "l4"
   ]
  },
  {
   "cell_type": "code",
   "execution_count": 72,
   "id": "17190bec",
   "metadata": {},
   "outputs": [],
   "source": [
    "l4.sort()"
   ]
  },
  {
   "cell_type": "code",
   "execution_count": 73,
   "id": "2fd3e18d",
   "metadata": {},
   "outputs": [
    {
     "data": {
      "text/plain": [
       "[6, 23, 33, 44, 55, 66, 76]"
      ]
     },
     "execution_count": 73,
     "metadata": {},
     "output_type": "execute_result"
    }
   ],
   "source": [
    "l4"
   ]
  },
  {
   "cell_type": "code",
   "execution_count": 74,
   "id": "995c020a",
   "metadata": {},
   "outputs": [],
   "source": [
    "l4.sort(reverse = True)"
   ]
  },
  {
   "cell_type": "code",
   "execution_count": 5,
   "id": "ea5a5c53",
   "metadata": {},
   "outputs": [
    {
     "data": {
      "text/plain": [
       "[]"
      ]
     },
     "execution_count": 5,
     "metadata": {},
     "output_type": "execute_result"
    }
   ],
   "source": [
    "l4"
   ]
  },
  {
   "cell_type": "code",
   "execution_count": 4,
   "id": "cc33de69",
   "metadata": {},
   "outputs": [],
   "source": [
    "l4.clear()"
   ]
  },
  {
   "cell_type": "markdown",
   "id": "7a014cc2",
   "metadata": {},
   "source": [
    "## Conditioning "
   ]
  },
  {
   "cell_type": "code",
   "execution_count": 11,
   "id": "82eaa96b",
   "metadata": {},
   "outputs": [
    {
     "name": "stdout",
     "output_type": "stream",
     "text": [
      "Yash failed\n"
     ]
    }
   ],
   "source": [
    "yash = 5\n",
    "\n",
    "if yash > 35:\n",
    "    \n",
    "    print(\"Yash passed\")\n",
    "\n",
    "else:\n",
    "    \n",
    "    print(\"Yash failed\")"
   ]
  },
  {
   "cell_type": "code",
   "execution_count": 7,
   "id": "13c831c1",
   "metadata": {},
   "outputs": [],
   "source": [
    "a = 20 "
   ]
  },
  {
   "cell_type": "code",
   "execution_count": 8,
   "id": "bc92a524",
   "metadata": {},
   "outputs": [
    {
     "name": "stdout",
     "output_type": "stream",
     "text": [
      "a is greater than 10\n"
     ]
    }
   ],
   "source": [
    "if a > 10:\n",
    "    \n",
    "    print(\"a is greater than 10\")"
   ]
  },
  {
   "cell_type": "code",
   "execution_count": 9,
   "id": "15ed05a4",
   "metadata": {},
   "outputs": [
    {
     "data": {
      "text/plain": [
       "False"
      ]
     },
     "execution_count": 9,
     "metadata": {},
     "output_type": "execute_result"
    }
   ],
   "source": [
    "a < 10"
   ]
  },
  {
   "cell_type": "code",
   "execution_count": 13,
   "id": "1ad555b9",
   "metadata": {},
   "outputs": [
    {
     "name": "stdout",
     "output_type": "stream",
     "text": [
      "13 is odd\n"
     ]
    }
   ],
   "source": [
    "n = 13\n",
    "\n",
    "if n%2 == 0:\n",
    "    print(f\"{n} is even\")\n",
    "    \n",
    "else:\n",
    "    print(f\"{n} is odd\")"
   ]
  },
  {
   "cell_type": "code",
   "execution_count": 19,
   "id": "0d4d58ca",
   "metadata": {},
   "outputs": [
    {
     "name": "stdout",
     "output_type": "stream",
     "text": [
      "Enter input amount within range 1 to 100 : 95\n",
      "You can afford bike\n"
     ]
    }
   ],
   "source": [
    "income = float(input(\"Enter input amount within range 1 to 100 : \"))\n",
    "\n",
    "if income > 50:\n",
    "    print(\"You can afford bike\")\n",
    "elif income > 70:\n",
    "    print(\"You can afford to buy iPhone\")\n",
    "elif income > 90:\n",
    "    print(\"You can afford to buy home\")\n",
    "else:\n",
    "    print(\"You cannot afford anything\")"
   ]
  }
 ],
 "metadata": {
  "kernelspec": {
   "display_name": "Python 3 (ipykernel)",
   "language": "python",
   "name": "python3"
  },
  "language_info": {
   "codemirror_mode": {
    "name": "ipython",
    "version": 3
   },
   "file_extension": ".py",
   "mimetype": "text/x-python",
   "name": "python",
   "nbconvert_exporter": "python",
   "pygments_lexer": "ipython3",
   "version": "3.11.5"
  }
 },
 "nbformat": 4,
 "nbformat_minor": 5
}
