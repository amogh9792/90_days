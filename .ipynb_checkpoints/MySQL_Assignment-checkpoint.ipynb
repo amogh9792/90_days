{
 "cells": [
  {
   "cell_type": "markdown",
   "id": "fbc85f74",
   "metadata": {},
   "source": [
    "Question 4: Extract Records with Salary Within a Range\n",
    "Description: Given the 'employees' table with fields:\n",
    "- employee_id (integer)\n",
    "- first_name (string, max length 50)\n",
    "- last_name (string, max length 50)\n",
    "- salary (decimal with 2 decimal places)\n",
    "- department (string, max length 50)\n",
    "Extract records from the 'employees' table where the salary falls within the\n",
    "range of 70000 to 80000."
   ]
  },
  {
   "cell_type": "code",
   "execution_count": null,
   "id": "859f60e1",
   "metadata": {},
   "outputs": [],
   "source": []
  }
 ],
 "metadata": {
  "kernelspec": {
   "display_name": "Python 3 (ipykernel)",
   "language": "python",
   "name": "python3"
  },
  "language_info": {
   "codemirror_mode": {
    "name": "ipython",
    "version": 3
   },
   "file_extension": ".py",
   "mimetype": "text/x-python",
   "name": "python",
   "nbconvert_exporter": "python",
   "pygments_lexer": "ipython3",
   "version": "3.11.5"
  }
 },
 "nbformat": 4,
 "nbformat_minor": 5
}
