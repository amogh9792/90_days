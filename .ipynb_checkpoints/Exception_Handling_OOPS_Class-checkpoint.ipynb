{
 "cells": [
  {
   "cell_type": "markdown",
   "id": "ffbd3c75",
   "metadata": {},
   "source": [
    "### Exceptin handling\n",
    "\n",
    "1. Syntax Error\n",
    "2. Logical Error"
   ]
  },
  {
   "cell_type": "markdown",
   "id": "e4675dca",
   "metadata": {},
   "source": [
    "### Syntax Error"
   ]
  },
  {
   "cell_type": "code",
   "execution_count": 1,
   "id": "25b56e2e",
   "metadata": {},
   "outputs": [
    {
     "ename": "IndentationError",
     "evalue": "unexpected indent (3989804705.py, line 2)",
     "output_type": "error",
     "traceback": [
      "\u001b[1;36m  Cell \u001b[1;32mIn[1], line 2\u001b[1;36m\u001b[0m\n\u001b[1;33m    print(\"print economy doing great\")\u001b[0m\n\u001b[1;37m    ^\u001b[0m\n\u001b[1;31mIndentationError\u001b[0m\u001b[1;31m:\u001b[0m unexpected indent\n"
     ]
    }
   ],
   "source": [
    "print(\"India beat SL by 302 runs\")\n",
    "    print(\"print economy doing great\") #Indentation error"
   ]
  },
  {
   "cell_type": "code",
   "execution_count": 3,
   "id": "69006fb1",
   "metadata": {},
   "outputs": [
    {
     "ename": "NameError",
     "evalue": "name 'y' is not defined",
     "output_type": "error",
     "traceback": [
      "\u001b[1;31m---------------------------------------------------------------------------\u001b[0m",
      "\u001b[1;31mNameError\u001b[0m                                 Traceback (most recent call last)",
      "Cell \u001b[1;32mIn[3], line 3\u001b[0m\n\u001b[0;32m      1\u001b[0m x \u001b[38;5;241m=\u001b[39m \u001b[38;5;241m10\u001b[39m\n\u001b[1;32m----> 3\u001b[0m z \u001b[38;5;241m=\u001b[39m x \u001b[38;5;241m+\u001b[39m y\n",
      "\u001b[1;31mNameError\u001b[0m: name 'y' is not defined"
     ]
    }
   ],
   "source": [
    "x = 10\n",
    "\n",
    "z = x + y    # Value error"
   ]
  },
  {
   "cell_type": "markdown",
   "id": "ced49409",
   "metadata": {},
   "source": [
    "### Logical Error"
   ]
  },
  {
   "cell_type": "code",
   "execution_count": 4,
   "id": "50b6f35d",
   "metadata": {},
   "outputs": [
    {
     "ename": "NameError",
     "evalue": "name 'os' is not defined",
     "output_type": "error",
     "traceback": [
      "\u001b[1;31m---------------------------------------------------------------------------\u001b[0m",
      "\u001b[1;31mNameError\u001b[0m                                 Traceback (most recent call last)",
      "Cell \u001b[1;32mIn[4], line 1\u001b[0m\n\u001b[1;32m----> 1\u001b[0m os\u001b[38;5;241m.\u001b[39mopen(\u001b[38;5;124m'\u001b[39m\u001b[38;5;124mdata.csv\u001b[39m\u001b[38;5;124m'\u001b[39m)\n",
      "\u001b[1;31mNameError\u001b[0m: name 'os' is not defined"
     ]
    }
   ],
   "source": [
    "os.open('data.csv')"
   ]
  },
  {
   "cell_type": "code",
   "execution_count": 5,
   "id": "c95da1fe",
   "metadata": {},
   "outputs": [
    {
     "ename": "TypeError",
     "evalue": "open() missing required argument 'flags' (pos 2)",
     "output_type": "error",
     "traceback": [
      "\u001b[1;31m---------------------------------------------------------------------------\u001b[0m",
      "\u001b[1;31mTypeError\u001b[0m                                 Traceback (most recent call last)",
      "Cell \u001b[1;32mIn[5], line 3\u001b[0m\n\u001b[0;32m      1\u001b[0m \u001b[38;5;28;01mimport\u001b[39;00m \u001b[38;5;21;01mos\u001b[39;00m \n\u001b[1;32m----> 3\u001b[0m os\u001b[38;5;241m.\u001b[39mopen(\u001b[38;5;124m'\u001b[39m\u001b[38;5;124mdata.csv\u001b[39m\u001b[38;5;124m'\u001b[39m)\n",
      "\u001b[1;31mTypeError\u001b[0m: open() missing required argument 'flags' (pos 2)"
     ]
    }
   ],
   "source": [
    "import os \n",
    "\n",
    "os.open('data.csv')"
   ]
  },
  {
   "cell_type": "code",
   "execution_count": 6,
   "id": "deb11616",
   "metadata": {},
   "outputs": [
    {
     "ename": "TypeError",
     "evalue": "'str' object cannot be interpreted as an integer",
     "output_type": "error",
     "traceback": [
      "\u001b[1;31m---------------------------------------------------------------------------\u001b[0m",
      "\u001b[1;31mTypeError\u001b[0m                                 Traceback (most recent call last)",
      "Cell \u001b[1;32mIn[6], line 3\u001b[0m\n\u001b[0;32m      1\u001b[0m \u001b[38;5;28;01mimport\u001b[39;00m \u001b[38;5;21;01mos\u001b[39;00m \n\u001b[1;32m----> 3\u001b[0m os\u001b[38;5;241m.\u001b[39mopen(\u001b[38;5;124m'\u001b[39m\u001b[38;5;124mdata.csv\u001b[39m\u001b[38;5;124m'\u001b[39m, \u001b[38;5;124m'\u001b[39m\u001b[38;5;124mr\u001b[39m\u001b[38;5;124m'\u001b[39m)\n",
      "\u001b[1;31mTypeError\u001b[0m: 'str' object cannot be interpreted as an integer"
     ]
    }
   ],
   "source": [
    "import os \n",
    "\n",
    "os.open('data.csv', 'r')"
   ]
  },
  {
   "cell_type": "code",
   "execution_count": 7,
   "id": "f9c1d4ac",
   "metadata": {},
   "outputs": [
    {
     "ename": "FileNotFoundError",
     "evalue": "[Errno 2] No such file or directory: 'data.csv'",
     "output_type": "error",
     "traceback": [
      "\u001b[1;31m---------------------------------------------------------------------------\u001b[0m",
      "\u001b[1;31mFileNotFoundError\u001b[0m                         Traceback (most recent call last)",
      "Cell \u001b[1;32mIn[7], line 3\u001b[0m\n\u001b[0;32m      1\u001b[0m \u001b[38;5;28;01mimport\u001b[39;00m \u001b[38;5;21;01mos\u001b[39;00m \n\u001b[1;32m----> 3\u001b[0m os\u001b[38;5;241m.\u001b[39mopen(\u001b[38;5;124m'\u001b[39m\u001b[38;5;124mdata.csv\u001b[39m\u001b[38;5;124m'\u001b[39m, \u001b[38;5;241m1\u001b[39m)\n",
      "\u001b[1;31mFileNotFoundError\u001b[0m: [Errno 2] No such file or directory: 'data.csv'"
     ]
    }
   ],
   "source": [
    "import os \n",
    "\n",
    "os.open('data.csv', 1)"
   ]
  },
  {
   "cell_type": "code",
   "execution_count": 8,
   "id": "4cc028cf",
   "metadata": {},
   "outputs": [
    {
     "ename": "ZeroDivisionError",
     "evalue": "division by zero",
     "output_type": "error",
     "traceback": [
      "\u001b[1;31m---------------------------------------------------------------------------\u001b[0m",
      "\u001b[1;31mZeroDivisionError\u001b[0m                         Traceback (most recent call last)",
      "Cell \u001b[1;32mIn[8], line 1\u001b[0m\n\u001b[1;32m----> 1\u001b[0m \u001b[38;5;241m159\u001b[39m\u001b[38;5;241m/\u001b[39m\u001b[38;5;241m0\u001b[39m\n",
      "\u001b[1;31mZeroDivisionError\u001b[0m: division by zero"
     ]
    }
   ],
   "source": [
    "159/0 # division by zero error"
   ]
  },
  {
   "cell_type": "code",
   "execution_count": 11,
   "id": "4e790e61",
   "metadata": {},
   "outputs": [
    {
     "name": "stdout",
     "output_type": "stream",
     "text": [
      "['ArithmeticError', 'AssertionError', 'AttributeError', 'BaseException', 'BaseExceptionGroup', 'BlockingIOError', 'BrokenPipeError', 'BufferError', 'BytesWarning', 'ChildProcessError', 'ConnectionAbortedError', 'ConnectionError', 'ConnectionRefusedError', 'ConnectionResetError', 'DeprecationWarning', 'EOFError', 'Ellipsis', 'EncodingWarning', 'EnvironmentError', 'Exception', 'ExceptionGroup', 'False', 'FileExistsError', 'FileNotFoundError', 'FloatingPointError', 'FutureWarning', 'GeneratorExit', 'IOError', 'ImportError', 'ImportWarning', 'IndentationError', 'IndexError', 'InterruptedError', 'IsADirectoryError', 'KeyError', 'KeyboardInterrupt', 'LookupError', 'MemoryError', 'ModuleNotFoundError', 'NameError', 'None', 'NotADirectoryError', 'NotImplemented', 'NotImplementedError', 'OSError', 'OverflowError', 'PendingDeprecationWarning', 'PermissionError', 'ProcessLookupError', 'RecursionError', 'ReferenceError', 'ResourceWarning', 'RuntimeError', 'RuntimeWarning', 'StopAsyncIteration', 'StopIteration', 'SyntaxError', 'SyntaxWarning', 'SystemError', 'SystemExit', 'TabError', 'TimeoutError', 'True', 'TypeError', 'UnboundLocalError', 'UnicodeDecodeError', 'UnicodeEncodeError', 'UnicodeError', 'UnicodeTranslateError', 'UnicodeWarning', 'UserWarning', 'ValueError', 'Warning', 'WindowsError', 'ZeroDivisionError', '__IPYTHON__', '__build_class__', '__debug__', '__doc__', '__import__', '__loader__', '__name__', '__package__', '__spec__', 'abs', 'aiter', 'all', 'anext', 'any', 'ascii', 'bin', 'bool', 'breakpoint', 'bytearray', 'bytes', 'callable', 'chr', 'classmethod', 'compile', 'complex', 'copyright', 'credits', 'delattr', 'dict', 'dir', 'display', 'divmod', 'enumerate', 'eval', 'exec', 'execfile', 'filter', 'float', 'format', 'frozenset', 'get_ipython', 'getattr', 'globals', 'hasattr', 'hash', 'help', 'hex', 'id', 'input', 'int', 'isinstance', 'issubclass', 'iter', 'len', 'license', 'list', 'locals', 'map', 'max', 'memoryview', 'min', 'next', 'object', 'oct', 'open', 'ord', 'pow', 'print', 'property', 'range', 'repr', 'reversed', 'round', 'runfile', 'set', 'setattr', 'slice', 'sorted', 'staticmethod', 'str', 'sum', 'super', 'tuple', 'type', 'vars', 'zip']\n"
     ]
    }
   ],
   "source": [
    "print(dir(locals()['__builtins__']))"
   ]
  },
  {
   "cell_type": "code",
   "execution_count": 12,
   "id": "d19a5b71",
   "metadata": {},
   "outputs": [
    {
     "name": "stdout",
     "output_type": "stream",
     "text": [
      "sum : 3\n"
     ]
    }
   ],
   "source": [
    "a = 1\n",
    "b = 2\n",
    "\n",
    "if a == 1:\n",
    "    \n",
    "    print(f\"sum : {a+b}\")"
   ]
  },
  {
   "cell_type": "code",
   "execution_count": 14,
   "id": "ffa02f39",
   "metadata": {},
   "outputs": [
    {
     "ename": "AssertionError",
     "evalue": "a is not 1",
     "output_type": "error",
     "traceback": [
      "\u001b[1;31m---------------------------------------------------------------------------\u001b[0m",
      "\u001b[1;31mAssertionError\u001b[0m                            Traceback (most recent call last)",
      "Cell \u001b[1;32mIn[14], line 5\u001b[0m\n\u001b[0;32m      1\u001b[0m a \u001b[38;5;241m=\u001b[39m \u001b[38;5;241m2\u001b[39m\n\u001b[0;32m      2\u001b[0m b \u001b[38;5;241m=\u001b[39m \u001b[38;5;241m2\u001b[39m\n\u001b[1;32m----> 5\u001b[0m \u001b[38;5;28;01massert\u001b[39;00m a \u001b[38;5;241m==\u001b[39m \u001b[38;5;241m1\u001b[39m, \u001b[38;5;124m'\u001b[39m\u001b[38;5;124ma is not 1\u001b[39m\u001b[38;5;124m'\u001b[39m\n\u001b[0;32m      7\u001b[0m \u001b[38;5;28mprint\u001b[39m(a\u001b[38;5;241m+\u001b[39mb)\n",
      "\u001b[1;31mAssertionError\u001b[0m: a is not 1"
     ]
    }
   ],
   "source": [
    "a = 2\n",
    "b = 2\n",
    "\n",
    "\n",
    "assert a == 1, 'a is not 1'  #assert function\n",
    "\n",
    "print(a+b)"
   ]
  },
  {
   "cell_type": "code",
   "execution_count": 17,
   "id": "9dda980b",
   "metadata": {},
   "outputs": [
    {
     "ename": "AssertionError",
     "evalue": "The type of 'a' is not int",
     "output_type": "error",
     "traceback": [
      "\u001b[1;31m---------------------------------------------------------------------------\u001b[0m",
      "\u001b[1;31mAssertionError\u001b[0m                            Traceback (most recent call last)",
      "Cell \u001b[1;32mIn[17], line 6\u001b[0m\n\u001b[0;32m      2\u001b[0m b \u001b[38;5;241m=\u001b[39m \u001b[38;5;241m20\u001b[39m\n\u001b[0;32m      4\u001b[0m a \u001b[38;5;241m=\u001b[39m \u001b[38;5;124m'\u001b[39m\u001b[38;5;124mJAY\u001b[39m\u001b[38;5;124m'\u001b[39m\n\u001b[1;32m----> 6\u001b[0m \u001b[38;5;28;01massert\u001b[39;00m \u001b[38;5;28mtype\u001b[39m(a) \u001b[38;5;241m==\u001b[39m \u001b[38;5;28mint\u001b[39m, \u001b[38;5;124m\"\u001b[39m\u001b[38;5;124mThe type of \u001b[39m\u001b[38;5;124m'\u001b[39m\u001b[38;5;124ma\u001b[39m\u001b[38;5;124m'\u001b[39m\u001b[38;5;124m is not int\u001b[39m\u001b[38;5;124m\"\u001b[39m\n\u001b[0;32m      8\u001b[0m \u001b[38;5;28mprint\u001b[39m(\u001b[38;5;124mf\u001b[39m\u001b[38;5;124m\"\u001b[39m\u001b[38;5;124msum: \u001b[39m\u001b[38;5;132;01m{\u001b[39;00ma\u001b[38;5;241m+\u001b[39mb\u001b[38;5;132;01m}\u001b[39;00m\u001b[38;5;124m\"\u001b[39m)\n",
      "\u001b[1;31mAssertionError\u001b[0m: The type of 'a' is not int"
     ]
    }
   ],
   "source": [
    "a = 10\n",
    "b = 20\n",
    "\n",
    "a = 'JAY'\n",
    "\n",
    "assert type(a) == int, \"The type of 'a' is not int\"\n",
    "\n",
    "print(f\"sum: {a+b}\")"
   ]
  },
  {
   "cell_type": "markdown",
   "id": "a2c5bb92",
   "metadata": {},
   "source": [
    "### How to get rid of these errors"
   ]
  },
  {
   "cell_type": "code",
   "execution_count": null,
   "id": "079ec22e",
   "metadata": {},
   "outputs": [],
   "source": [
    "try\n",
    "\n",
    "    pass\n",
    "\n",
    "\n",
    "except"
   ]
  },
  {
   "cell_type": "code",
   "execution_count": 19,
   "id": "c09e9dcd",
   "metadata": {},
   "outputs": [
    {
     "name": "stdout",
     "output_type": "stream",
     "text": [
      "invalid input\n"
     ]
    }
   ],
   "source": [
    "try:\n",
    "    \n",
    "    a = 1\n",
    "    b = 0\n",
    "    \n",
    "    print(a/b)\n",
    "    \n",
    "except:\n",
    "    \n",
    "    print(\"invalid input\")"
   ]
  },
  {
   "cell_type": "code",
   "execution_count": 23,
   "id": "60c19697",
   "metadata": {},
   "outputs": [
    {
     "name": "stdout",
     "output_type": "stream",
     "text": [
      "ERROR: Invalid input\n"
     ]
    }
   ],
   "source": [
    "try:\n",
    "    \n",
    "    x = 12\n",
    "    y = 0\n",
    "    \n",
    "    z = x / y\n",
    "    \n",
    "    print(z)\n",
    "    \n",
    "except:\n",
    "    \n",
    "    print(\"ERROR: Invalid input\")"
   ]
  },
  {
   "cell_type": "code",
   "execution_count": 27,
   "id": "36dafbd0",
   "metadata": {},
   "outputs": [
    {
     "name": "stdout",
     "output_type": "stream",
     "text": [
      "3\n",
      "1\n",
      "6\n",
      "8\n"
     ]
    },
    {
     "ename": "IndexError",
     "evalue": "list index out of range",
     "output_type": "error",
     "traceback": [
      "\u001b[1;31m---------------------------------------------------------------------------\u001b[0m",
      "\u001b[1;31mIndexError\u001b[0m                                Traceback (most recent call last)",
      "Cell \u001b[1;32mIn[27], line 5\u001b[0m\n\u001b[0;32m      1\u001b[0m my_li \u001b[38;5;241m=\u001b[39m [\u001b[38;5;241m3\u001b[39m,\u001b[38;5;241m1\u001b[39m,\u001b[38;5;241m6\u001b[39m,\u001b[38;5;241m8\u001b[39m]\n\u001b[0;32m      3\u001b[0m \u001b[38;5;28;01mfor\u001b[39;00m i \u001b[38;5;129;01min\u001b[39;00m \u001b[38;5;28mrange\u001b[39m(\u001b[38;5;28mlen\u001b[39m(li)\u001b[38;5;241m+\u001b[39m\u001b[38;5;241m1\u001b[39m):\n\u001b[1;32m----> 5\u001b[0m     \u001b[38;5;28mprint\u001b[39m(li[i])\n",
      "\u001b[1;31mIndexError\u001b[0m: list index out of range"
     ]
    }
   ],
   "source": [
    "my_li = [3,1,6,8]\n",
    "\n",
    "for i in range(len(li)+1):\n",
    "    \n",
    "    print(li[i])"
   ]
  },
  {
   "cell_type": "code",
   "execution_count": 28,
   "id": "f840f8a8",
   "metadata": {},
   "outputs": [
    {
     "name": "stdout",
     "output_type": "stream",
     "text": [
      "3\n",
      "1\n",
      "6\n",
      "8\n",
      "error in code\n"
     ]
    }
   ],
   "source": [
    "try:\n",
    "    \n",
    "    my_li = [3,1,6,8]\n",
    "\n",
    "    for i in range(len(li)+1):\n",
    "    \n",
    "        print(li[i])\n",
    "        \n",
    "except:\n",
    "    \n",
    "    print(\"error in code\")"
   ]
  },
  {
   "cell_type": "code",
   "execution_count": 33,
   "id": "5669fc41",
   "metadata": {},
   "outputs": [
    {
     "name": "stdout",
     "output_type": "stream",
     "text": [
      "3\n",
      "1\n",
      "6\n",
      "8\n",
      "list index out of range\n"
     ]
    }
   ],
   "source": [
    "try:\n",
    "    \n",
    "    my_li = [3,1,6,8]\n",
    "\n",
    "    for i in range(len(li)+1):\n",
    "\n",
    "        print(li[i])\n",
    "    \n",
    "except Exception as e:\n",
    "    \n",
    "    print(e)"
   ]
  },
  {
   "cell_type": "code",
   "execution_count": 34,
   "id": "bbee9438",
   "metadata": {},
   "outputs": [
    {
     "name": "stdout",
     "output_type": "stream",
     "text": [
      "unsupported operand type(s) for +: 'int' and 'str'\n"
     ]
    }
   ],
   "source": [
    "try:\n",
    "    \n",
    "    my_li = [3,1,6,8]\n",
    "\n",
    "    for i in range(len(li)+1):\n",
    "\n",
    "        print(li[i]+\"sfhf\")\n",
    "    \n",
    "except Exception as e:\n",
    "    \n",
    "    print(e)"
   ]
  },
  {
   "cell_type": "code",
   "execution_count": 36,
   "id": "d8561667",
   "metadata": {},
   "outputs": [
    {
     "name": "stdout",
     "output_type": "stream",
     "text": [
      "3sfhf\n",
      "1sfhf\n",
      "6sfhf\n",
      "8sfhf\n"
     ]
    }
   ],
   "source": [
    "try:\n",
    "    \n",
    "    my_li = [3,1,6,8]\n",
    "\n",
    "    for i in range(len(li)):\n",
    "        \n",
    "        temp = str(li[i])\n",
    "\n",
    "        print(temp+\"sfhf\")\n",
    "    \n",
    "except Exception as e:\n",
    "    \n",
    "    print(e)"
   ]
  },
  {
   "cell_type": "code",
   "execution_count": null,
   "id": "1495bd01",
   "metadata": {},
   "outputs": [],
   "source": [
    "try:\n",
    "    \n",
    "    a = float(input(\"Enter a \"))\n",
    "    b = float(input(\"Enter b \"))\n",
    "    \n",
    "    c = a / b\n",
    "    \n",
    "    print(c)\n",
    "    \n",
    "except ValueError as e :\n",
    "    \n",
    "    print(\"don't input string\")                    # can use multiple exception blocks\n",
    "    \n",
    "except ZeroDivisionError as e:\n",
    "    \n",
    "    print(\"try not to divide by zero\")\n",
    "    \n",
    "except Exception as e:\n",
    "    \n",
    "    print(e)"
   ]
  },
  {
   "cell_type": "code",
   "execution_count": 5,
   "id": "7df93d91",
   "metadata": {},
   "outputs": [
    {
     "name": "stdout",
     "output_type": "stream",
     "text": [
      "a\n",
      "ERROR: <class 'ValueError'>\n",
      "\n",
      "0\n",
      "ERROR: <class 'ZeroDivisionError'>\n",
      "\n",
      "10\n",
      "0.1\n"
     ]
    }
   ],
   "source": [
    "import sys\n",
    "\n",
    "my_list = [\"a\",0,10]\n",
    "\n",
    "for i in my_list:\n",
    "    \n",
    "    try:\n",
    "        \n",
    "        print(i)\n",
    "        \n",
    "        result = 1/int(i)\n",
    "        \n",
    "        print(result)\n",
    "        \n",
    "    except:\n",
    "        \n",
    "        print(f\"ERROR: {sys.exc_info()[0]}\\n\")"
   ]
  },
  {
   "cell_type": "code",
   "execution_count": null,
   "id": "3663954e",
   "metadata": {},
   "outputs": [],
   "source": [
    "try:\n",
    "    \n",
    "    # definitly executes\n",
    "    \n",
    "except:\n",
    "    \n",
    "    # Executes only when error occurs\n",
    "    \n",
    "else:\n",
    "    \n",
    "    # Executes only when error does not occur"
   ]
  },
  {
   "cell_type": "code",
   "execution_count": 7,
   "id": "50c61721",
   "metadata": {},
   "outputs": [
    {
     "name": "stdout",
     "output_type": "stream",
     "text": [
      "Enter number: 5\n",
      "Number: 5 is not even\n"
     ]
    }
   ],
   "source": [
    "try:\n",
    "    \n",
    "    num = int(input(\"Enter number: \"))\n",
    "    assert num%2 == 0\n",
    "except:\n",
    "    \n",
    "    print(f\"Number: {num} is not even\")\n",
    "    \n",
    "else: \n",
    "    \n",
    "    print(f\"Number: {num} is even\")"
   ]
  },
  {
   "cell_type": "code",
   "execution_count": 12,
   "id": "4c86cdf3",
   "metadata": {},
   "outputs": [
    {
     "name": "stdout",
     "output_type": "stream",
     "text": [
      "Enter number: 0\n",
      "number: 0.0 is negative\n"
     ]
    }
   ],
   "source": [
    "try:\n",
    "    \n",
    "    n = float(input(\"Enter number: \"))\n",
    "    \n",
    "    assert n > 0\n",
    "    \n",
    "except:\n",
    "    \n",
    "    print(f\"number: {n} is negative\")\n",
    "    \n",
    "else:\n",
    "    \n",
    "    print(f\"number: {n} is positive\")"
   ]
  },
  {
   "cell_type": "markdown",
   "id": "6e35b728",
   "metadata": {},
   "source": [
    "## Finally block\n",
    "\n",
    "Always execute"
   ]
  },
  {
   "cell_type": "code",
   "execution_count": 21,
   "id": "a7f3d7b9",
   "metadata": {},
   "outputs": [
    {
     "name": "stdout",
     "output_type": "stream",
     "text": [
      "Enter number :  0\n",
      "execution complete\n"
     ]
    },
    {
     "ename": "ZeroDivisionError",
     "evalue": "division by zero",
     "output_type": "error",
     "traceback": [
      "\u001b[1;31m---------------------------------------------------------------------------\u001b[0m",
      "\u001b[1;31mZeroDivisionError\u001b[0m                         Traceback (most recent call last)",
      "Cell \u001b[1;32mIn[21], line 13\u001b[0m\n\u001b[0;32m      9\u001b[0m     \u001b[38;5;28mprint\u001b[39m(e)\n\u001b[0;32m     11\u001b[0m \u001b[38;5;28;01melse\u001b[39;00m:\n\u001b[1;32m---> 13\u001b[0m     ans \u001b[38;5;241m=\u001b[39m \u001b[38;5;241m1\u001b[39m\u001b[38;5;241m/\u001b[39mn\n\u001b[0;32m     15\u001b[0m     \u001b[38;5;28mprint\u001b[39m(\u001b[38;5;124mf\u001b[39m\u001b[38;5;124m\"\u001b[39m\u001b[38;5;124mreciprocal of \u001b[39m\u001b[38;5;132;01m{\u001b[39;00mn\u001b[38;5;132;01m}\u001b[39;00m\u001b[38;5;124m is :  \u001b[39m\u001b[38;5;132;01m{\u001b[39;00mans\u001b[38;5;132;01m}\u001b[39;00m\u001b[38;5;124m\"\u001b[39m)\n\u001b[0;32m     17\u001b[0m \u001b[38;5;28;01mfinally\u001b[39;00m:\n",
      "\u001b[1;31mZeroDivisionError\u001b[0m: division by zero"
     ]
    }
   ],
   "source": [
    "try:\n",
    "    \n",
    "    n = int(input(\"Enter number :  \"))\n",
    "    \n",
    "    assert n % 2 == 0\n",
    "    \n",
    "except Exception as e:\n",
    "    \n",
    "    print(e)\n",
    "\n",
    "else:\n",
    "    \n",
    "    ans = 1/n\n",
    "    \n",
    "    print(f\"reciprocal of {n} is :  {ans}\")\n",
    "    \n",
    "finally:\n",
    "    \n",
    "    print(\"execution complete\")"
   ]
  },
  {
   "cell_type": "code",
   "execution_count": 26,
   "id": "a6bcb6e4",
   "metadata": {},
   "outputs": [
    {
     "name": "stdout",
     "output_type": "stream",
     "text": [
      "Enter number :  hhds\n",
      "invalid literal for int() with base 10: 'hhds'\n",
      "execution complete\n"
     ]
    }
   ],
   "source": [
    "try:\n",
    "    \n",
    "    n = int(input(\"Enter number :  \"))\n",
    "    \n",
    "    assert n % 2 == 0\n",
    "    \n",
    "    assert ans == 1/n\n",
    "    \n",
    "except Exception as e:\n",
    "    \n",
    "    print(e)\n",
    "\n",
    "else:\n",
    "    \n",
    "    print(f\"reciprocal of {n} is :  {ans}\")\n",
    "    \n",
    "finally:\n",
    "    \n",
    "    print(\"execution complete\")"
   ]
  },
  {
   "cell_type": "markdown",
   "id": "5ab145a9",
   "metadata": {},
   "source": [
    "### Check if each element in a list is a string or integer"
   ]
  },
  {
   "cell_type": "code",
   "execution_count": 33,
   "id": "29326f63",
   "metadata": {},
   "outputs": [
    {
     "name": "stdout",
     "output_type": "stream",
     "text": [
      "1 is integer\n",
      "2 is integer\n",
      "5 is integer\n",
      "7 is integer\n",
      "77 is integer\n",
      "a is a string\n",
      "india is a string\n",
      "69 is integer\n",
      "Else block executed\n",
      "Finally block executed\n"
     ]
    }
   ],
   "source": [
    "try:\n",
    "    \n",
    "    my_l = [1, 2, 5, 7,77, 'a', 'india', 69]\n",
    "    \n",
    "    for element in my_l:\n",
    "        \n",
    "        if isinstance(element, int):\n",
    "            print(f\"{element} is integer\")\n",
    "            \n",
    "        elif isinstance(element, str):\n",
    "            print(f\"{element} is a string\")\n",
    "            \n",
    "        else:\n",
    "            \n",
    "            print(f\"{element} is unknown\")\n",
    "        \n",
    "except Exception as e:\n",
    "    \n",
    "    print(e)\n",
    "    \n",
    "else:\n",
    "    \n",
    "    print(\"Else block executed\")\n",
    "    \n",
    "finally:\n",
    "    \n",
    "    print(\"Finally block executed\")"
   ]
  },
  {
   "cell_type": "markdown",
   "id": "b57c895f",
   "metadata": {},
   "source": [
    "### Object Oriented Programmin (OOPS)"
   ]
  },
  {
   "cell_type": "code",
   "execution_count": null,
   "id": "b072b339",
   "metadata": {},
   "outputs": [],
   "source": [
    "class Emp:\n",
    "    \n",
    "    pass"
   ]
  },
  {
   "cell_type": "code",
   "execution_count": 6,
   "id": "be0b0047",
   "metadata": {},
   "outputs": [],
   "source": [
    "class Student:\n",
    "    \n",
    "    def introduction(self):\n",
    "        \n",
    "        print(f\"My name is {self.name}\")"
   ]
  },
  {
   "cell_type": "markdown",
   "id": "0ad012b6",
   "metadata": {},
   "source": [
    "### Create an Object"
   ]
  },
  {
   "cell_type": "code",
   "execution_count": 7,
   "id": "ca4ccbb7",
   "metadata": {},
   "outputs": [],
   "source": [
    "obj1 = Student()"
   ]
  },
  {
   "cell_type": "code",
   "execution_count": 8,
   "id": "4b5ac7e7",
   "metadata": {},
   "outputs": [],
   "source": [
    "obj1.name = \"Amogh\""
   ]
  },
  {
   "cell_type": "code",
   "execution_count": 9,
   "id": "320c0861",
   "metadata": {},
   "outputs": [
    {
     "name": "stdout",
     "output_type": "stream",
     "text": [
      "My name is Amogh\n"
     ]
    }
   ],
   "source": [
    "obj1.introduction()"
   ]
  },
  {
   "cell_type": "code",
   "execution_count": 11,
   "id": "6b3f82f2",
   "metadata": {},
   "outputs": [
    {
     "name": "stdout",
     "output_type": "stream",
     "text": [
      "My name is vaibhabv\n"
     ]
    }
   ],
   "source": [
    "obj2 = Student()\n",
    "\n",
    "obj2.name = \"vaibhabv\"\n",
    "\n",
    "obj2.introduction()"
   ]
  },
  {
   "cell_type": "code",
   "execution_count": 30,
   "id": "7caece8b",
   "metadata": {},
   "outputs": [],
   "source": [
    "class Student1:\n",
    "    \n",
    "    def intro(self, name1):\n",
    "        \n",
    "        print(f\"My name is {self.n} {self.id}\")\n",
    "        print(name1)"
   ]
  },
  {
   "cell_type": "code",
   "execution_count": 31,
   "id": "fcccbdba",
   "metadata": {},
   "outputs": [
    {
     "name": "stdout",
     "output_type": "stream",
     "text": [
      "My name is vaibhav 70\n",
      "Sachin\n"
     ]
    }
   ],
   "source": [
    "obje = Student1()\n",
    "\n",
    "obje.n = \"vaibhav\"\n",
    "obje.id = 70\n",
    "obje.intro(\"Sachin\")"
   ]
  },
  {
   "cell_type": "code",
   "execution_count": 32,
   "id": "a51f43b7",
   "metadata": {},
   "outputs": [
    {
     "data": {
      "text/plain": [
       "2055631164816"
      ]
     },
     "execution_count": 32,
     "metadata": {},
     "output_type": "execute_result"
    }
   ],
   "source": [
    "id(obje)"
   ]
  },
  {
   "cell_type": "code",
   "execution_count": 33,
   "id": "d5cb8773",
   "metadata": {},
   "outputs": [
    {
     "data": {
      "text/plain": [
       "['__class__',\n",
       " '__delattr__',\n",
       " '__dict__',\n",
       " '__dir__',\n",
       " '__doc__',\n",
       " '__eq__',\n",
       " '__format__',\n",
       " '__ge__',\n",
       " '__getattribute__',\n",
       " '__getstate__',\n",
       " '__gt__',\n",
       " '__hash__',\n",
       " '__init__',\n",
       " '__init_subclass__',\n",
       " '__le__',\n",
       " '__lt__',\n",
       " '__module__',\n",
       " '__ne__',\n",
       " '__new__',\n",
       " '__reduce__',\n",
       " '__reduce_ex__',\n",
       " '__repr__',\n",
       " '__setattr__',\n",
       " '__sizeof__',\n",
       " '__str__',\n",
       " '__subclasshook__',\n",
       " '__weakref__',\n",
       " 'id',\n",
       " 'intro',\n",
       " 'n']"
      ]
     },
     "execution_count": 33,
     "metadata": {},
     "output_type": "execute_result"
    }
   ],
   "source": [
    "dir(obje)"
   ]
  },
  {
   "cell_type": "code",
   "execution_count": 34,
   "id": "4b016a07",
   "metadata": {},
   "outputs": [
    {
     "data": {
      "text/plain": [
       "{'n': 'vaibhav', 'id': 70}"
      ]
     },
     "execution_count": 34,
     "metadata": {},
     "output_type": "execute_result"
    }
   ],
   "source": [
    "obje.__dict__"
   ]
  },
  {
   "cell_type": "markdown",
   "id": "729c63b0",
   "metadata": {},
   "source": [
    "### Constructor"
   ]
  },
  {
   "cell_type": "code",
   "execution_count": 46,
   "id": "3142d4b2",
   "metadata": {},
   "outputs": [],
   "source": [
    "class Person:\n",
    "    \n",
    "    def __init__(self, name, gender, education):\n",
    "        \n",
    "        self.name = name\n",
    "        self.gender = gender\n",
    "        self.education = education\n",
    "        \n",
    "    def show(self):\n",
    "        \n",
    "        print(f\"name: {self.name}, gender: {self.gender}, education: {self.education}\")"
   ]
  },
  {
   "cell_type": "code",
   "execution_count": 47,
   "id": "0173c698",
   "metadata": {},
   "outputs": [],
   "source": [
    "obj12 = Person(name = \"Amogh\", gender = \"Male\", education = \"MCA\")"
   ]
  },
  {
   "cell_type": "code",
   "execution_count": 48,
   "id": "dd8d5ee1",
   "metadata": {},
   "outputs": [
    {
     "data": {
      "text/plain": [
       "{'name': 'Amogh', 'gender': 'Male', 'education': 'MCA'}"
      ]
     },
     "execution_count": 48,
     "metadata": {},
     "output_type": "execute_result"
    }
   ],
   "source": [
    "obj12.__dict__"
   ]
  },
  {
   "cell_type": "code",
   "execution_count": 49,
   "id": "1255abb8",
   "metadata": {},
   "outputs": [
    {
     "name": "stdout",
     "output_type": "stream",
     "text": [
      "name: Amogh, gender: Male, education: MCA\n"
     ]
    }
   ],
   "source": [
    "obj12.show()"
   ]
  },
  {
   "cell_type": "code",
   "execution_count": 51,
   "id": "0b1d2a6b",
   "metadata": {},
   "outputs": [
    {
     "name": "stdout",
     "output_type": "stream",
     "text": [
      "name: Shraddha, gender: Female, education: Msc\n"
     ]
    }
   ],
   "source": [
    "obj13 = Person(name = \"Shraddha\", gender = \"Female\", education = \"Msc\")\n",
    "\n",
    "obj13.show()"
   ]
  },
  {
   "cell_type": "code",
   "execution_count": 52,
   "id": "3809529c",
   "metadata": {},
   "outputs": [],
   "source": [
    "class Myclass:\n",
    "    \n",
    "    def __init__(self):\n",
    "        \n",
    "        self.a = 0\n",
    "        self.b = 0\n",
    "        \n",
    "    def show(self):\n",
    "        \n",
    "        print(f\"The value of a is {self.a} and value of b is {self.b}\")\n",
    "        "
   ]
  },
  {
   "cell_type": "code",
   "execution_count": 56,
   "id": "1c31bf39",
   "metadata": {},
   "outputs": [
    {
     "name": "stdout",
     "output_type": "stream",
     "text": [
      "The value of a is 2 and value of b is 0\n"
     ]
    }
   ],
   "source": [
    "ob.a = 2\n",
    "\n",
    "ob.show()"
   ]
  },
  {
   "cell_type": "code",
   "execution_count": 57,
   "id": "98ea5f82",
   "metadata": {},
   "outputs": [
    {
     "data": {
      "text/plain": [
       "{'a': 2, 'b': 0}"
      ]
     },
     "execution_count": 57,
     "metadata": {},
     "output_type": "execute_result"
    }
   ],
   "source": [
    "ob.__dict__"
   ]
  },
  {
   "cell_type": "markdown",
   "id": "21eb9edf",
   "metadata": {},
   "source": [
    "### Program to find the circumference and area of circle"
   ]
  },
  {
   "cell_type": "code",
   "execution_count": 60,
   "id": "618a6745",
   "metadata": {},
   "outputs": [],
   "source": [
    "class Circle:\n",
    "    \n",
    "    def __init__(self, radius):\n",
    "        \n",
    "        self.radius = radius\n",
    "        self.pi = 3.14\n",
    "    \n",
    "    def area(self):\n",
    "        \n",
    "        circle_area = self.pi * self.radius * self.radius\n",
    "        \n",
    "        print(f\"Area of circle with radius {self.radius} is {circle_area}\")\n",
    "        \n",
    "    def circumference(self):\n",
    "        \n",
    "        circ_circum = 2 * self.pi * self.radius\n",
    "        \n",
    "        print(f\"circumference of circle with radius {self.radius} is {circ_circum}\")\n",
    "        "
   ]
  },
  {
   "cell_type": "code",
   "execution_count": 61,
   "id": "af1d0c73",
   "metadata": {},
   "outputs": [],
   "source": [
    "obj = Circle(5.3)"
   ]
  },
  {
   "cell_type": "code",
   "execution_count": 62,
   "id": "0423f810",
   "metadata": {},
   "outputs": [
    {
     "name": "stdout",
     "output_type": "stream",
     "text": [
      "Area of circle with radius 5.3 is 88.20259999999999\n"
     ]
    }
   ],
   "source": [
    "obj.area()"
   ]
  },
  {
   "cell_type": "code",
   "execution_count": 63,
   "id": "23689f20",
   "metadata": {},
   "outputs": [
    {
     "name": "stdout",
     "output_type": "stream",
     "text": [
      "circumference of circle with radius 5.3 is 33.284\n"
     ]
    }
   ],
   "source": [
    "obj.circumference()"
   ]
  },
  {
   "cell_type": "code",
   "execution_count": 64,
   "id": "31d2c6e3",
   "metadata": {},
   "outputs": [
    {
     "name": "stdout",
     "output_type": "stream",
     "text": [
      "Area of circle with radius 5.3 is 88.20259999999999\n"
     ]
    }
   ],
   "source": [
    "obj.area()"
   ]
  },
  {
   "cell_type": "code",
   "execution_count": null,
   "id": "82f63763",
   "metadata": {},
   "outputs": [],
   "source": []
  }
 ],
 "metadata": {
  "kernelspec": {
   "display_name": "Python 3 (ipykernel)",
   "language": "python",
   "name": "python3"
  },
  "language_info": {
   "codemirror_mode": {
    "name": "ipython",
    "version": 3
   },
   "file_extension": ".py",
   "mimetype": "text/x-python",
   "name": "python",
   "nbconvert_exporter": "python",
   "pygments_lexer": "ipython3",
   "version": "3.11.5"
  }
 },
 "nbformat": 4,
 "nbformat_minor": 5
}
