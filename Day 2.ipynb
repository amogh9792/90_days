{
 "cells": [
  {
   "cell_type": "markdown",
   "id": "01575fae",
   "metadata": {},
   "source": [
    "### Loop"
   ]
  },
  {
   "cell_type": "code",
   "execution_count": 7,
   "id": "8fced082",
   "metadata": {},
   "outputs": [],
   "source": [
    "l = [36,25,85,23,34,34,26]"
   ]
  },
  {
   "cell_type": "code",
   "execution_count": 2,
   "id": "6188a31f",
   "metadata": {},
   "outputs": [
    {
     "data": {
      "text/plain": [
       "[36, 25, 85, 23, 34, 34]"
      ]
     },
     "execution_count": 2,
     "metadata": {},
     "output_type": "execute_result"
    }
   ],
   "source": [
    "l"
   ]
  },
  {
   "cell_type": "code",
   "execution_count": 3,
   "id": "fce2a88e",
   "metadata": {},
   "outputs": [
    {
     "data": {
      "text/plain": [
       "36"
      ]
     },
     "execution_count": 3,
     "metadata": {},
     "output_type": "execute_result"
    }
   ],
   "source": [
    "l[0]"
   ]
  },
  {
   "cell_type": "markdown",
   "id": "b165becc",
   "metadata": {},
   "source": [
    "### For Loop"
   ]
  },
  {
   "cell_type": "code",
   "execution_count": null,
   "id": "bcaaeb6a",
   "metadata": {},
   "outputs": [],
   "source": [
    "for <index> in <iterator>:\n",
    "    print(index)"
   ]
  },
  {
   "cell_type": "code",
   "execution_count": 4,
   "id": "84f2a8d8",
   "metadata": {},
   "outputs": [
    {
     "data": {
      "text/plain": [
       "range(0, 10)"
      ]
     },
     "execution_count": 4,
     "metadata": {},
     "output_type": "execute_result"
    }
   ],
   "source": [
    "range(0,10)"
   ]
  },
  {
   "cell_type": "code",
   "execution_count": 5,
   "id": "fed83ae8",
   "metadata": {},
   "outputs": [
    {
     "name": "stdout",
     "output_type": "stream",
     "text": [
      "0\n",
      "1\n",
      "2\n",
      "3\n",
      "4\n"
     ]
    }
   ],
   "source": [
    "for i in range(0, 5):\n",
    "    \n",
    "    print(i)"
   ]
  },
  {
   "cell_type": "code",
   "execution_count": 8,
   "id": "5ad23617",
   "metadata": {},
   "outputs": [
    {
     "data": {
      "text/plain": [
       "7"
      ]
     },
     "execution_count": 8,
     "metadata": {},
     "output_type": "execute_result"
    }
   ],
   "source": [
    "len(l)"
   ]
  },
  {
   "cell_type": "code",
   "execution_count": 10,
   "id": "75d04ee4",
   "metadata": {},
   "outputs": [
    {
     "name": "stdout",
     "output_type": "stream",
     "text": [
      "36\n",
      "25\n",
      "85\n",
      "23\n",
      "34\n",
      "34\n",
      "26\n"
     ]
    }
   ],
   "source": [
    "for i in range(0, 7):\n",
    "    \n",
    "    print(l[i])"
   ]
  },
  {
   "cell_type": "code",
   "execution_count": 11,
   "id": "967b5cf4",
   "metadata": {},
   "outputs": [
    {
     "name": "stdout",
     "output_type": "stream",
     "text": [
      "36\n",
      "25\n",
      "85\n",
      "23\n",
      "34\n",
      "34\n",
      "26\n"
     ]
    }
   ],
   "source": [
    "for i in l:\n",
    "    \n",
    "    print(i)"
   ]
  },
  {
   "cell_type": "code",
   "execution_count": 12,
   "id": "b5fbd9e1",
   "metadata": {},
   "outputs": [
    {
     "name": "stdout",
     "output_type": "stream",
     "text": [
      "36\n",
      "25\n",
      "85\n",
      "23\n",
      "34\n",
      "34\n",
      "26\n"
     ]
    }
   ],
   "source": [
    "for i in range(0, len(l)):\n",
    "    \n",
    "    print(l[i])"
   ]
  },
  {
   "cell_type": "markdown",
   "id": "cd3b5d51",
   "metadata": {},
   "source": [
    "### Sum Of Numbers"
   ]
  },
  {
   "cell_type": "code",
   "execution_count": 15,
   "id": "af72e7fc",
   "metadata": {},
   "outputs": [
    {
     "name": "stdout",
     "output_type": "stream",
     "text": [
      "263\n"
     ]
    }
   ],
   "source": [
    "sum = 0\n",
    "\n",
    "for i in range(0, len(l)):\n",
    "    \n",
    "    sum = sum + l[i]\n",
    "    \n",
    "print(sum)"
   ]
  },
  {
   "cell_type": "markdown",
   "id": "61734846",
   "metadata": {},
   "source": [
    "### Print the pattern"
   ]
  },
  {
   "cell_type": "code",
   "execution_count": 17,
   "id": "4eef9ef4",
   "metadata": {},
   "outputs": [
    {
     "name": "stdout",
     "output_type": "stream",
     "text": [
      "I\n",
      "N\n",
      "D\n",
      "I\n",
      "A\n"
     ]
    }
   ],
   "source": [
    "word = \"INDIA\"\n",
    "\n",
    "for i in word:\n",
    "    \n",
    "    print(i)"
   ]
  },
  {
   "cell_type": "markdown",
   "id": "ce6f49a5",
   "metadata": {},
   "source": [
    "### Multiplication Table"
   ]
  },
  {
   "cell_type": "code",
   "execution_count": 22,
   "id": "866047dd",
   "metadata": {},
   "outputs": [
    {
     "name": "stdout",
     "output_type": "stream",
     "text": [
      "12 x 1 - 12\n",
      "12 x 2 - 24\n",
      "12 x 3 - 36\n",
      "12 x 4 - 48\n",
      "12 x 5 - 60\n",
      "12 x 6 - 72\n",
      "12 x 7 - 84\n",
      "12 x 8 - 96\n",
      "12 x 9 - 108\n",
      "12 x 10 - 120\n"
     ]
    }
   ],
   "source": [
    "n = 12\n",
    "\n",
    "for i in range(1, 11):\n",
    "    \n",
    "    print(f\"{n} x {i} - {n*i}\")"
   ]
  },
  {
   "cell_type": "code",
   "execution_count": 19,
   "id": "7c736598",
   "metadata": {},
   "outputs": [
    {
     "name": "stdout",
     "output_type": "stream",
     "text": [
      "ljsfkfksfhk53\n"
     ]
    }
   ],
   "source": [
    "n = 5\n",
    "i = 3\n",
    "\n",
    "print(f\"ljsfkfksfhk{n}{i}\")"
   ]
  },
  {
   "cell_type": "markdown",
   "id": "820d19ac",
   "metadata": {},
   "source": [
    "### Factorial of number"
   ]
  },
  {
   "cell_type": "code",
   "execution_count": 29,
   "id": "d87aa822",
   "metadata": {},
   "outputs": [
    {
     "name": "stdout",
     "output_type": "stream",
     "text": [
      "Factorial of 10 is : 3628800\n"
     ]
    }
   ],
   "source": [
    "result = 1\n",
    "n = 10\n",
    "\n",
    "for i in range(1, n+1):\n",
    "    \n",
    "    result = result * i\n",
    "    \n",
    "print(f\"Factorial of {n} is :\",result)"
   ]
  },
  {
   "cell_type": "markdown",
   "id": "64abcf74",
   "metadata": {},
   "source": [
    "### Print the pattern"
   ]
  },
  {
   "cell_type": "code",
   "execution_count": 82,
   "id": "ae002497",
   "metadata": {},
   "outputs": [
    {
     "name": "stdout",
     "output_type": "stream",
     "text": [
      "*****\n",
      "****\n",
      "***\n",
      "**\n",
      "*\n"
     ]
    }
   ],
   "source": [
    "n = 5\n",
    "\n",
    "for i in range(n+1, 1, -1):\n",
    "\n",
    "    for j in range(0, i-1):\n",
    "    \n",
    "        print(\"*\", end = \"\")\n",
    "        \n",
    "    print()"
   ]
  },
  {
   "cell_type": "markdown",
   "id": "aa7f3db0",
   "metadata": {},
   "source": [
    "### While Loop"
   ]
  },
  {
   "cell_type": "code",
   "execution_count": null,
   "id": "4de5fed9",
   "metadata": {},
   "outputs": [],
   "source": [
    "while <condition>\n",
    "    \n",
    "    print()"
   ]
  },
  {
   "cell_type": "code",
   "execution_count": 88,
   "id": "1f27a8d1",
   "metadata": {},
   "outputs": [
    {
     "name": "stdout",
     "output_type": "stream",
     "text": [
      " * \n",
      " *  * \n",
      " *  *  * \n",
      " *  *  *  * \n",
      " *  *  *  *  * \n"
     ]
    }
   ],
   "source": [
    "n = 5 \n",
    "i = 1\n",
    "\n",
    "while i <= n:\n",
    "    \n",
    "    print(\" * \" * i)\n",
    "    i = i + 1"
   ]
  },
  {
   "cell_type": "code",
   "execution_count": 94,
   "id": "a5005ad1",
   "metadata": {},
   "outputs": [
    {
     "name": "stdout",
     "output_type": "stream",
     "text": [
      " *  *  *  *  * \n",
      " *  *  *  * \n",
      " *  *  * \n",
      " *  * \n",
      " * \n"
     ]
    }
   ],
   "source": [
    "n = 5\n",
    "i = n\n",
    "\n",
    "while i >= 1:\n",
    "    print(\" * \" * i)\n",
    "    \n",
    "    i = i - 1"
   ]
  },
  {
   "cell_type": "code",
   "execution_count": 98,
   "id": "8250dd9b",
   "metadata": {},
   "outputs": [
    {
     "name": "stdout",
     "output_type": "stream",
     "text": [
      " * \n",
      " *  * \n",
      " *  *  * \n",
      " *  *  *  * \n",
      " *  *  *  *  * \n",
      " *  *  *  * \n",
      " *  *  * \n",
      " *  * \n",
      " * \n"
     ]
    }
   ],
   "source": [
    "n = 5 \n",
    "i = 1\n",
    "\n",
    "while i <= n:\n",
    "    \n",
    "    print(\" * \" * i)\n",
    "    i = i + 1\n",
    "    \n",
    "n = 4\n",
    "i = n\n",
    "\n",
    "while i >= 1:\n",
    "    print(\" * \" * i)\n",
    "    \n",
    "    i = i - 1"
   ]
  },
  {
   "cell_type": "markdown",
   "id": "3f1e7a3f",
   "metadata": {},
   "source": [
    "### Pattern Print"
   ]
  },
  {
   "cell_type": "code",
   "execution_count": 100,
   "id": "db8c59e6",
   "metadata": {},
   "outputs": [
    {
     "name": "stdout",
     "output_type": "stream",
     "text": [
      "A\n",
      "M\n",
      "O\n",
      "G\n",
      "H\n",
      " \n",
      "P\n",
      "A\n",
      "T\n",
      "H\n",
      "A\n",
      "K\n"
     ]
    }
   ],
   "source": [
    "string = \"AMOGH PATHAK\"\n",
    "\n",
    "index = 0\n",
    "\n",
    "while index < len(string):\n",
    "    \n",
    "    print(string[index])\n",
    "    \n",
    "    index += 1"
   ]
  },
  {
   "cell_type": "code",
   "execution_count": 103,
   "id": "26e1d636",
   "metadata": {},
   "outputs": [
    {
     "name": "stdout",
     "output_type": "stream",
     "text": [
      "V\n",
      "A\n",
      "I\n",
      "B\n",
      "H\n",
      "A\n",
      "V\n",
      " \n",
      "P\n",
      "A\n",
      "T\n",
      "I\n",
      "L\n"
     ]
    }
   ],
   "source": [
    "strin = \"VAIBHAV PATIL\"\n",
    "\n",
    "index = 0\n",
    "\n",
    "while index < len(strin):\n",
    "    \n",
    "    print(strin[index])\n",
    "    \n",
    "    index += 1"
   ]
  },
  {
   "cell_type": "markdown",
   "id": "182ede7b",
   "metadata": {},
   "source": [
    "### Print the number from n to 1"
   ]
  },
  {
   "cell_type": "code",
   "execution_count": 133,
   "id": "65140fed",
   "metadata": {},
   "outputs": [
    {
     "name": "stdout",
     "output_type": "stream",
     "text": [
      "5\n",
      "4\n",
      "3\n",
      "2\n",
      "1\n"
     ]
    }
   ],
   "source": [
    "n = 5\n",
    "\n",
    "for i in range(n, 0, -1):\n",
    "    \n",
    "    print(i)"
   ]
  },
  {
   "cell_type": "code",
   "execution_count": 143,
   "id": "04dda4b3",
   "metadata": {},
   "outputs": [
    {
     "name": "stdout",
     "output_type": "stream",
     "text": [
      "Enter a number :10\n",
      "10\n",
      "9\n",
      "8\n",
      "7\n",
      "6\n",
      "5\n",
      "4\n",
      "3\n",
      "2\n",
      "1\n"
     ]
    }
   ],
   "source": [
    "n = int(input(\"Enter a number :\"))\n",
    "\n",
    "while n >= 1:\n",
    "    \n",
    "    print(n)\n",
    "    \n",
    "    n -= 1"
   ]
  },
  {
   "cell_type": "markdown",
   "id": "6ba19e2e",
   "metadata": {},
   "source": [
    "# Functions"
   ]
  },
  {
   "cell_type": "code",
   "execution_count": 164,
   "id": "7b85a307",
   "metadata": {},
   "outputs": [],
   "source": [
    "def greet():\n",
    "    \n",
    "    print(\"Hello!\")"
   ]
  },
  {
   "cell_type": "code",
   "execution_count": 161,
   "id": "f47c8291",
   "metadata": {},
   "outputs": [
    {
     "name": "stdout",
     "output_type": "stream",
     "text": [
      "Hello!\n"
     ]
    },
    {
     "data": {
      "text/plain": [
       "'hello'"
      ]
     },
     "execution_count": 161,
     "metadata": {},
     "output_type": "execute_result"
    }
   ],
   "source": [
    "greet()"
   ]
  },
  {
   "cell_type": "code",
   "execution_count": 166,
   "id": "ed5d231e",
   "metadata": {},
   "outputs": [
    {
     "name": "stdout",
     "output_type": "stream",
     "text": [
      "Hello!\n"
     ]
    }
   ],
   "source": [
    "result = greet()"
   ]
  },
  {
   "cell_type": "code",
   "execution_count": 167,
   "id": "7d5d0e4e",
   "metadata": {},
   "outputs": [
    {
     "name": "stdout",
     "output_type": "stream",
     "text": [
      "None\n"
     ]
    }
   ],
   "source": [
    "print(result)"
   ]
  },
  {
   "cell_type": "code",
   "execution_count": 187,
   "id": "be862d14",
   "metadata": {},
   "outputs": [],
   "source": [
    "def test1():\n",
    "    \n",
    "    sum = 1 + 5\n",
    "    \n",
    "    return sum"
   ]
  },
  {
   "cell_type": "code",
   "execution_count": 183,
   "id": "47582f57",
   "metadata": {},
   "outputs": [
    {
     "data": {
      "text/plain": [
       "6"
      ]
     },
     "execution_count": 183,
     "metadata": {},
     "output_type": "execute_result"
    }
   ],
   "source": [
    "test1()"
   ]
  },
  {
   "cell_type": "code",
   "execution_count": 188,
   "id": "d187da51",
   "metadata": {},
   "outputs": [],
   "source": [
    "result = test1()"
   ]
  },
  {
   "cell_type": "code",
   "execution_count": 189,
   "id": "6dfb0fb2",
   "metadata": {},
   "outputs": [
    {
     "name": "stdout",
     "output_type": "stream",
     "text": [
      "6\n"
     ]
    }
   ],
   "source": [
    "print(result)"
   ]
  },
  {
   "cell_type": "code",
   "execution_count": 190,
   "id": "097f28f2",
   "metadata": {},
   "outputs": [],
   "source": [
    "def test3():\n",
    "    \n",
    "    li = [1,2,3]\n",
    "    \n",
    "    return li"
   ]
  },
  {
   "cell_type": "code",
   "execution_count": 191,
   "id": "6d47906b",
   "metadata": {},
   "outputs": [],
   "source": [
    "result = test3()"
   ]
  },
  {
   "cell_type": "code",
   "execution_count": 192,
   "id": "6d3dbf02",
   "metadata": {},
   "outputs": [
    {
     "name": "stdout",
     "output_type": "stream",
     "text": [
      "[1, 2, 3]\n"
     ]
    }
   ],
   "source": [
    "print(result)"
   ]
  },
  {
   "cell_type": "code",
   "execution_count": 193,
   "id": "ef04fa62",
   "metadata": {},
   "outputs": [],
   "source": [
    "def test5():\n",
    "    \n",
    "    name = \"PRAVIN\"\n",
    "    \n",
    "    return name"
   ]
  },
  {
   "cell_type": "code",
   "execution_count": 194,
   "id": "10d03d66",
   "metadata": {},
   "outputs": [],
   "source": [
    "name = test5()"
   ]
  },
  {
   "cell_type": "code",
   "execution_count": 196,
   "id": "17dfff28",
   "metadata": {},
   "outputs": [
    {
     "name": "stdout",
     "output_type": "stream",
     "text": [
      "PRAVIN\n"
     ]
    }
   ],
   "source": [
    "print(name)"
   ]
  },
  {
   "cell_type": "code",
   "execution_count": 209,
   "id": "efabb95d",
   "metadata": {},
   "outputs": [],
   "source": [
    "def test6():\n",
    "    \n",
    "    return \"hello\", \"fjl\", \"amogh\""
   ]
  },
  {
   "cell_type": "code",
   "execution_count": 205,
   "id": "e27414dc",
   "metadata": {},
   "outputs": [
    {
     "data": {
      "text/plain": [
       "'hello'"
      ]
     },
     "execution_count": 205,
     "metadata": {},
     "output_type": "execute_result"
    }
   ],
   "source": [
    "test6()"
   ]
  },
  {
   "cell_type": "code",
   "execution_count": 206,
   "id": "45d9b6f0",
   "metadata": {},
   "outputs": [
    {
     "name": "stdout",
     "output_type": "stream",
     "text": [
      "hello\n"
     ]
    }
   ],
   "source": [
    "print(test6())"
   ]
  },
  {
   "cell_type": "code",
   "execution_count": 210,
   "id": "3dac4430",
   "metadata": {},
   "outputs": [],
   "source": [
    "hi,b,c = test6()"
   ]
  },
  {
   "cell_type": "code",
   "execution_count": 208,
   "id": "5bb0a82d",
   "metadata": {},
   "outputs": [
    {
     "data": {
      "text/plain": [
       "'hello'"
      ]
     },
     "execution_count": 208,
     "metadata": {},
     "output_type": "execute_result"
    }
   ],
   "source": [
    "hi"
   ]
  },
  {
   "cell_type": "code",
   "execution_count": 211,
   "id": "0ea13185",
   "metadata": {},
   "outputs": [
    {
     "data": {
      "text/plain": [
       "('fjl', 'amogh')"
      ]
     },
     "execution_count": 211,
     "metadata": {},
     "output_type": "execute_result"
    }
   ],
   "source": [
    "b,c "
   ]
  },
  {
   "cell_type": "code",
   "execution_count": 215,
   "id": "7b40f180",
   "metadata": {},
   "outputs": [],
   "source": [
    "def test3():\n",
    "    \n",
    "    l = [1,2,3,4,5,6,7,8,9,10]\n",
    "    \n",
    "    sum = 0\n",
    "    \n",
    "    for i in l:\n",
    "        \n",
    "        sum += i\n",
    "    \n",
    "    return sum"
   ]
  },
  {
   "cell_type": "code",
   "execution_count": 216,
   "id": "ec75c347",
   "metadata": {},
   "outputs": [
    {
     "data": {
      "text/plain": [
       "55"
      ]
     },
     "execution_count": 216,
     "metadata": {},
     "output_type": "execute_result"
    }
   ],
   "source": [
    "test3()"
   ]
  },
  {
   "cell_type": "code",
   "execution_count": 219,
   "id": "40d7c5d6",
   "metadata": {},
   "outputs": [],
   "source": [
    "def test9():\n",
    "    \n",
    "    l = [1,2,3,4,5, 'india']\n",
    "    \n",
    "    sum = 0\n",
    "    \n",
    "    for i in l:\n",
    "        \n",
    "        if type(i) == int:\n",
    "        \n",
    "            sum += i\n",
    "        \n",
    "    return sum"
   ]
  },
  {
   "cell_type": "code",
   "execution_count": 220,
   "id": "45f49048",
   "metadata": {},
   "outputs": [
    {
     "data": {
      "text/plain": [
       "15"
      ]
     },
     "execution_count": 220,
     "metadata": {},
     "output_type": "execute_result"
    }
   ],
   "source": [
    "test9()"
   ]
  },
  {
   "cell_type": "code",
   "execution_count": 221,
   "id": "f549dd94",
   "metadata": {},
   "outputs": [],
   "source": [
    "def test10(l):\n",
    "    \n",
    "    sum = 0\n",
    "    \n",
    "    for i in l:\n",
    "        \n",
    "        if type(i) == int:\n",
    "            sum += i\n",
    "    return sum"
   ]
  },
  {
   "cell_type": "code",
   "execution_count": 222,
   "id": "c30f3db3",
   "metadata": {},
   "outputs": [
    {
     "data": {
      "text/plain": [
       "15"
      ]
     },
     "execution_count": 222,
     "metadata": {},
     "output_type": "execute_result"
    }
   ],
   "source": [
    "l = [1,2,3,4,5,\"a\"]\n",
    "\n",
    "test10(l)"
   ]
  },
  {
   "cell_type": "code",
   "execution_count": 223,
   "id": "d206babe",
   "metadata": {},
   "outputs": [],
   "source": [
    "def test11(mylist):\n",
    "    \n",
    "    sum = 0\n",
    "    \n",
    "    for i in mylist:\n",
    "        \n",
    "        if type(i) == int:\n",
    "            \n",
    "            sum += i\n",
    "    return sum"
   ]
  },
  {
   "cell_type": "code",
   "execution_count": 228,
   "id": "01012b8a",
   "metadata": {},
   "outputs": [
    {
     "data": {
      "text/plain": [
       "10"
      ]
     },
     "execution_count": 228,
     "metadata": {},
     "output_type": "execute_result"
    }
   ],
   "source": [
    "l = [1,2,3,4,\"a\",\"s\"]\n",
    "\n",
    "test11(mylist = l)"
   ]
  },
  {
   "cell_type": "code",
   "execution_count": 229,
   "id": "30ed38f0",
   "metadata": {},
   "outputs": [],
   "source": [
    "def two_sum(a,b):\n",
    "    \n",
    "    sum = a + b\n",
    "    \n",
    "    return sum"
   ]
  },
  {
   "cell_type": "code",
   "execution_count": 232,
   "id": "8697ba22",
   "metadata": {},
   "outputs": [
    {
     "data": {
      "text/plain": [
       "15"
      ]
     },
     "execution_count": 232,
     "metadata": {},
     "output_type": "execute_result"
    }
   ],
   "source": [
    "a = 5\n",
    "b = 10\n",
    "\n",
    "two_sum(a,b)"
   ]
  },
  {
   "cell_type": "code",
   "execution_count": 233,
   "id": "9ff80a10",
   "metadata": {},
   "outputs": [
    {
     "data": {
      "text/plain": [
       "[1, 2, 3, 4, 'a', 's']"
      ]
     },
     "execution_count": 233,
     "metadata": {},
     "output_type": "execute_result"
    }
   ],
   "source": [
    "l "
   ]
  },
  {
   "cell_type": "code",
   "execution_count": 239,
   "id": "ef1056a3",
   "metadata": {},
   "outputs": [],
   "source": [
    "def test12(mylist):\n",
    "    \n",
    "    li = []\n",
    "    \n",
    "    for i in mylist:\n",
    "        \n",
    "        if type(i) == str:\n",
    "            \n",
    "            li.append(i)\n",
    "            \n",
    "    return li"
   ]
  },
  {
   "cell_type": "code",
   "execution_count": 240,
   "id": "eefcb63e",
   "metadata": {},
   "outputs": [
    {
     "data": {
      "text/plain": [
       "[1, 2, 3, 4, 'a', 's']"
      ]
     },
     "execution_count": 240,
     "metadata": {},
     "output_type": "execute_result"
    }
   ],
   "source": [
    "l"
   ]
  },
  {
   "cell_type": "code",
   "execution_count": 241,
   "id": "98973a20",
   "metadata": {},
   "outputs": [
    {
     "data": {
      "text/plain": [
       "['a', 's']"
      ]
     },
     "execution_count": 241,
     "metadata": {},
     "output_type": "execute_result"
    }
   ],
   "source": [
    "test12(l)"
   ]
  },
  {
   "cell_type": "code",
   "execution_count": 248,
   "id": "702cfdb5",
   "metadata": {},
   "outputs": [],
   "source": [
    "def test13(mylist):\n",
    "    \"\"\"\n",
    "    This function seperates the integer and str elements from the given list\n",
    "    :params: list()\n",
    "    :return: string list, int list\n",
    "    \"\"\"\n",
    "    \n",
    "    li_int = []\n",
    "    li_str = []\n",
    "    \n",
    "    for i in mylist:\n",
    "        \n",
    "        if type(i) == int:\n",
    "            \n",
    "            li_int.append(i)\n",
    "            \n",
    "        elif type(i) == str:\n",
    "            \n",
    "            li_str.append(i)\n",
    "    return li_str, li_int"
   ]
  },
  {
   "cell_type": "code",
   "execution_count": 247,
   "id": "40572327",
   "metadata": {},
   "outputs": [],
   "source": [
    "l = [1233,44,5,6,\"jdhfs\",\"dfjks\"]"
   ]
  },
  {
   "cell_type": "code",
   "execution_count": 246,
   "id": "3bc37493",
   "metadata": {},
   "outputs": [
    {
     "data": {
      "text/plain": [
       "(['jdhfs', 'dfjks'], [1233, 44, 5, 6])"
      ]
     },
     "execution_count": 246,
     "metadata": {},
     "output_type": "execute_result"
    }
   ],
   "source": [
    "test13(l)"
   ]
  },
  {
   "cell_type": "markdown",
   "id": "5a94ba11",
   "metadata": {},
   "source": [
    "## Questions"
   ]
  },
  {
   "cell_type": "markdown",
   "id": "0e937174",
   "metadata": {},
   "source": [
    "### 1. Write a function to find the length of a string without using inbuilt 'len' function"
   ]
  },
  {
   "cell_type": "code",
   "execution_count": 280,
   "id": "6975b288",
   "metadata": {},
   "outputs": [],
   "source": [
    "def findlen(strr:str()):\n",
    "    \n",
    "    \"\"\"\n",
    "    This function returns the length of the given string\n",
    "    :params: It takes strr: str() as a parameter\n",
    "    \"\"\"\n",
    "    \n",
    "    count = 0\n",
    "    \n",
    "    for i in strr:\n",
    "        \n",
    "        count+= 1\n",
    "        \n",
    "    return count"
   ]
  },
  {
   "cell_type": "code",
   "execution_count": 282,
   "id": "5f4a03f4",
   "metadata": {},
   "outputs": [
    {
     "data": {
      "text/plain": [
       "5"
      ]
     },
     "execution_count": 282,
     "metadata": {},
     "output_type": "execute_result"
    }
   ],
   "source": [
    "findlen(\"amogh\")"
   ]
  },
  {
   "cell_type": "markdown",
   "id": "479e5f56",
   "metadata": {},
   "source": [
    "### 2. Write a function which will be able to print an index of list element without using index function"
   ]
  },
  {
   "cell_type": "code",
   "execution_count": 297,
   "id": "a2dc22bb",
   "metadata": {},
   "outputs": [],
   "source": [
    "def findind(ind:list()):\n",
    "    \n",
    "    \"\"\"\n",
    "    This function will print an index of an element\n",
    "    :params: It takes ind: list() as a parameter\n",
    "    \"\"\"\n",
    "    index = 0\n",
    "            \n",
    "    for i in ind:\n",
    "            print(f\"The index of {i} is {index}\")\n",
    "            index += 1"
   ]
  },
  {
   "cell_type": "code",
   "execution_count": 298,
   "id": "03f911d8",
   "metadata": {},
   "outputs": [],
   "source": [
    "li = [1,2,3,4,4]"
   ]
  },
  {
   "cell_type": "code",
   "execution_count": 299,
   "id": "4416f383",
   "metadata": {},
   "outputs": [
    {
     "name": "stdout",
     "output_type": "stream",
     "text": [
      "The index of 1 is 0\n",
      "The index of 2 is 1\n",
      "The index of 3 is 2\n",
      "The index of 4 is 3\n",
      "The index of 4 is 4\n"
     ]
    }
   ],
   "source": [
    "findind(li)"
   ]
  },
  {
   "cell_type": "markdown",
   "id": "1b8e3ecb",
   "metadata": {},
   "source": [
    "### 3. Write a function that calculates the factorial of a given positive integer."
   ]
  },
  {
   "cell_type": "code",
   "execution_count": 33,
   "id": "6e859ea4",
   "metadata": {},
   "outputs": [],
   "source": [
    "def fact(num: int):\n",
    "    \"\"\"\n",
    "    This function calculates the factorial of a number\n",
    "    :params: it takes num:  int parameter\n",
    "    \"\"\"\n",
    "    \n",
    "    fact = 1\n",
    "    \n",
    "    for i in range(1, num+1):\n",
    "        \n",
    "        fact*=i\n",
    "        \n",
    "    return fact"
   ]
  },
  {
   "cell_type": "code",
   "execution_count": 34,
   "id": "39c4a298",
   "metadata": {},
   "outputs": [
    {
     "data": {
      "text/plain": [
       "6"
      ]
     },
     "execution_count": 34,
     "metadata": {},
     "output_type": "execute_result"
    }
   ],
   "source": [
    "fact(3)"
   ]
  },
  {
   "cell_type": "markdown",
   "id": "2a28e7d2",
   "metadata": {},
   "source": [
    "### 4. Write a program that finds the largest element in a list of numbers."
   ]
  },
  {
   "cell_type": "code",
   "execution_count": 53,
   "id": "19f73d63",
   "metadata": {},
   "outputs": [],
   "source": [
    "def lar(mylist: list()):\n",
    "    \n",
    "    \"\"\"\n",
    "    This function finds the largest element in a list of numbers.\n",
    "    :params: It takes a list(): mylist as a parameter\n",
    "    \"\"\"\n",
    "    mylist.sort(reverse = True)\n",
    "    print(\"The largest number in the list is : \", mylist[0])"
   ]
  },
  {
   "cell_type": "code",
   "execution_count": 55,
   "id": "8e165e41",
   "metadata": {},
   "outputs": [],
   "source": [
    "l = [823,4,56,7,7,8,44,77,3333]"
   ]
  },
  {
   "cell_type": "code",
   "execution_count": 59,
   "id": "ebba58a4",
   "metadata": {},
   "outputs": [
    {
     "name": "stdout",
     "output_type": "stream",
     "text": [
      "The largest number in the list is :  3333\n"
     ]
    }
   ],
   "source": [
    "lar(l)"
   ]
  },
  {
   "cell_type": "markdown",
   "id": "3c00d83d",
   "metadata": {},
   "source": [
    "### 5. Create a function that converts temperature from Celsius to Fahrenheit."
   ]
  },
  {
   "cell_type": "code",
   "execution_count": 15,
   "id": "cb3b56f3",
   "metadata": {},
   "outputs": [],
   "source": [
    "def conv(cel: float):\n",
    "    \n",
    "    \"\"\"\n",
    "    This function converts temperature from celsius to fahrenheit\n",
    "    :params: It takes far a float value as a parameter\n",
    "    \"\"\"\n",
    "    \n",
    "    far = 9/5 * cel + 32\n",
    "    \n",
    "    print(f\"The converted value of {cel} C in Fahrenheit is {far} F\")"
   ]
  },
  {
   "cell_type": "code",
   "execution_count": 16,
   "id": "cae66ee0",
   "metadata": {},
   "outputs": [
    {
     "name": "stdout",
     "output_type": "stream",
     "text": [
      "The converted value of 5 C in Fahrenheit is 41.0 F\n"
     ]
    }
   ],
   "source": [
    "conv(5)"
   ]
  },
  {
   "cell_type": "markdown",
   "id": "a720edc4",
   "metadata": {},
   "source": [
    "### 6. Write a Python function to reverse a list."
   ]
  },
  {
   "cell_type": "code",
   "execution_count": 31,
   "id": "dab24fd6",
   "metadata": {},
   "outputs": [],
   "source": [
    "def rev(myli: list()):\n",
    "    \n",
    "    \"\"\"\n",
    "    This function reverses a list\n",
    "    :params: It takes a list myli as a parameter\n",
    "    \"\"\"\n",
    "    return myli[::-1]"
   ]
  },
  {
   "cell_type": "code",
   "execution_count": 32,
   "id": "34d1bd36",
   "metadata": {},
   "outputs": [
    {
     "data": {
      "text/plain": [
       "[55, 5, 4, 33, 12]"
      ]
     },
     "execution_count": 32,
     "metadata": {},
     "output_type": "execute_result"
    }
   ],
   "source": [
    "a = [12,33,4,5,55]\n",
    "\n",
    "rev(a)"
   ]
  },
  {
   "cell_type": "markdown",
   "id": "bce52c82",
   "metadata": {},
   "source": [
    "### 7. Function to Check if a Number is Even"
   ]
  },
  {
   "cell_type": "code",
   "execution_count": 33,
   "id": "5b5d4dcb",
   "metadata": {},
   "outputs": [],
   "source": [
    "def eve(a: int):\n",
    "    \n",
    "    \"\"\"\n",
    "    This function checks if a number is even\n",
    "    :params: It takes int parameter names a\n",
    "    \"\"\"\n",
    "    \n",
    "    if a % 2 == 0:\n",
    "        \n",
    "        print(\"The given number is even\")\n",
    "        \n",
    "    else:\n",
    "        \n",
    "        print(\"The given number is odd\")"
   ]
  },
  {
   "cell_type": "code",
   "execution_count": 36,
   "id": "4c2ee48c",
   "metadata": {},
   "outputs": [
    {
     "name": "stdout",
     "output_type": "stream",
     "text": [
      "The given number is odd\n"
     ]
    }
   ],
   "source": [
    "eve(201)"
   ]
  },
  {
   "cell_type": "markdown",
   "id": "0d116fff",
   "metadata": {},
   "source": [
    "### 8. Write a function to check whether a string is palindrome or not"
   ]
  },
  {
   "cell_type": "code",
   "execution_count": 44,
   "id": "69854eeb",
   "metadata": {},
   "outputs": [],
   "source": [
    "def pal(st: str):\n",
    "    \n",
    "    \"\"\"\n",
    "    This functions checks whether a string is palindrome or not\n",
    "    :params: It takes a string st as a parameter\n",
    "    \"\"\"\n",
    "    \n",
    "    if  st[::-1] == st:\n",
    "        \n",
    "        print(\"It is a palindrome\")\n",
    "        \n",
    "    else:\n",
    "        \n",
    "        print(\"It's not a palindrome\")"
   ]
  },
  {
   "cell_type": "code",
   "execution_count": 45,
   "id": "0f3ab698",
   "metadata": {},
   "outputs": [
    {
     "name": "stdout",
     "output_type": "stream",
     "text": [
      "It is a palindrome\n"
     ]
    }
   ],
   "source": [
    "pal(\"DAD\")"
   ]
  },
  {
   "cell_type": "code",
   "execution_count": null,
   "id": "d4d523cd",
   "metadata": {},
   "outputs": [],
   "source": []
  },
  {
   "cell_type": "code",
   "execution_count": null,
   "id": "73b34ba0",
   "metadata": {},
   "outputs": [],
   "source": []
  }
 ],
 "metadata": {
  "kernelspec": {
   "display_name": "Python 3 (ipykernel)",
   "language": "python",
   "name": "python3"
  },
  "language_info": {
   "codemirror_mode": {
    "name": "ipython",
    "version": 3
   },
   "file_extension": ".py",
   "mimetype": "text/x-python",
   "name": "python",
   "nbconvert_exporter": "python",
   "pygments_lexer": "ipython3",
   "version": "3.11.5"
  }
 },
 "nbformat": 4,
 "nbformat_minor": 5
}
